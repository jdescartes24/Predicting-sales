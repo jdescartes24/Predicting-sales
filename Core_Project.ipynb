{
  "nbformat": 4,
  "nbformat_minor": 0,
  "metadata": {
    "colab": {
      "name": "Core Project",
      "provenance": [],
      "collapsed_sections": [],
      "authorship_tag": "ABX9TyMEYwf6thJt7RVXA5RJ3mN3",
      "include_colab_link": true
    },
    "kernelspec": {
      "name": "python3",
      "display_name": "Python 3"
    },
    "language_info": {
      "name": "python"
    }
  },
  "cells": [
    {
      "cell_type": "markdown",
      "metadata": {
        "id": "view-in-github",
        "colab_type": "text"
      },
      "source": [
        "<a href=\"https://colab.research.google.com/github/jdescartes24/Predicting-sales/blob/main/Core_Project.ipynb\" target=\"_parent\"><img src=\"https://colab.research.google.com/assets/colab-badge.svg\" alt=\"Open In Colab\"/></a>"
      ]
    },
    {
      "cell_type": "code",
      "metadata": {
        "colab": {
          "base_uri": "https://localhost:8080/",
          "height": 309
        },
        "id": "0_ApBwfFBdY1",
        "outputId": "5c91dfed-aaf9-425d-a003-ec8255ef245e"
      },
      "source": [
        "import pandas as pd\n",
        "import matplotlib.pyplot as plt\n",
        "import seaborn as sns \n",
        "import numpy as np\n",
        "import pandas as pd\n",
        "from sklearn.pipeline import make_pipeline\n",
        "from sklearn.linear_model import LinearRegression\n",
        "from sklearn.impute import SimpleImputer\n",
        "from sklearn.model_selection import train_test_split\n",
        "from sklearn.metrics import r2_score\n",
        "from sklearn.pipeline import make_pipeline\n",
        "from sklearn.compose import make_column_transformer\n",
        "from sklearn.compose import make_column_selector\n",
        "from sklearn.preprocessing import OneHotEncoder\n",
        "from sklearn.compose import make_column_transformer\n",
        "sales_predictions=  '/content/sales_predictions.csv'\n",
        "\n",
        "sales=pd.read_csv(sales_predictions)\n",
        "\n",
        "sales.head()\n",
        "\n"
      ],
      "execution_count": null,
      "outputs": [
        {
          "output_type": "execute_result",
          "data": {
            "text/html": [
              "<div>\n",
              "<style scoped>\n",
              "    .dataframe tbody tr th:only-of-type {\n",
              "        vertical-align: middle;\n",
              "    }\n",
              "\n",
              "    .dataframe tbody tr th {\n",
              "        vertical-align: top;\n",
              "    }\n",
              "\n",
              "    .dataframe thead th {\n",
              "        text-align: right;\n",
              "    }\n",
              "</style>\n",
              "<table border=\"1\" class=\"dataframe\">\n",
              "  <thead>\n",
              "    <tr style=\"text-align: right;\">\n",
              "      <th></th>\n",
              "      <th>Item_Identifier</th>\n",
              "      <th>Item_Weight</th>\n",
              "      <th>Item_Fat_Content</th>\n",
              "      <th>Item_Visibility</th>\n",
              "      <th>Item_Type</th>\n",
              "      <th>Item_MRP</th>\n",
              "      <th>Outlet_Identifier</th>\n",
              "      <th>Outlet_Establishment_Year</th>\n",
              "      <th>Outlet_Size</th>\n",
              "      <th>Outlet_Location_Type</th>\n",
              "      <th>Outlet_Type</th>\n",
              "      <th>Item_Outlet_Sales</th>\n",
              "    </tr>\n",
              "  </thead>\n",
              "  <tbody>\n",
              "    <tr>\n",
              "      <th>0</th>\n",
              "      <td>FDA15</td>\n",
              "      <td>9.30</td>\n",
              "      <td>Low Fat</td>\n",
              "      <td>0.016047</td>\n",
              "      <td>Dairy</td>\n",
              "      <td>249.8092</td>\n",
              "      <td>OUT049</td>\n",
              "      <td>1999</td>\n",
              "      <td>Medium</td>\n",
              "      <td>Tier 1</td>\n",
              "      <td>Supermarket Type1</td>\n",
              "      <td>3735.1380</td>\n",
              "    </tr>\n",
              "    <tr>\n",
              "      <th>1</th>\n",
              "      <td>DRC01</td>\n",
              "      <td>5.92</td>\n",
              "      <td>Regular</td>\n",
              "      <td>0.019278</td>\n",
              "      <td>Soft Drinks</td>\n",
              "      <td>48.2692</td>\n",
              "      <td>OUT018</td>\n",
              "      <td>2009</td>\n",
              "      <td>Medium</td>\n",
              "      <td>Tier 3</td>\n",
              "      <td>Supermarket Type2</td>\n",
              "      <td>443.4228</td>\n",
              "    </tr>\n",
              "    <tr>\n",
              "      <th>2</th>\n",
              "      <td>FDN15</td>\n",
              "      <td>17.50</td>\n",
              "      <td>Low Fat</td>\n",
              "      <td>0.016760</td>\n",
              "      <td>Meat</td>\n",
              "      <td>141.6180</td>\n",
              "      <td>OUT049</td>\n",
              "      <td>1999</td>\n",
              "      <td>Medium</td>\n",
              "      <td>Tier 1</td>\n",
              "      <td>Supermarket Type1</td>\n",
              "      <td>2097.2700</td>\n",
              "    </tr>\n",
              "    <tr>\n",
              "      <th>3</th>\n",
              "      <td>FDX07</td>\n",
              "      <td>19.20</td>\n",
              "      <td>Regular</td>\n",
              "      <td>0.000000</td>\n",
              "      <td>Fruits and Vegetables</td>\n",
              "      <td>182.0950</td>\n",
              "      <td>OUT010</td>\n",
              "      <td>1998</td>\n",
              "      <td>NaN</td>\n",
              "      <td>Tier 3</td>\n",
              "      <td>Grocery Store</td>\n",
              "      <td>732.3800</td>\n",
              "    </tr>\n",
              "    <tr>\n",
              "      <th>4</th>\n",
              "      <td>NCD19</td>\n",
              "      <td>8.93</td>\n",
              "      <td>Low Fat</td>\n",
              "      <td>0.000000</td>\n",
              "      <td>Household</td>\n",
              "      <td>53.8614</td>\n",
              "      <td>OUT013</td>\n",
              "      <td>1987</td>\n",
              "      <td>High</td>\n",
              "      <td>Tier 3</td>\n",
              "      <td>Supermarket Type1</td>\n",
              "      <td>994.7052</td>\n",
              "    </tr>\n",
              "  </tbody>\n",
              "</table>\n",
              "</div>"
            ],
            "text/plain": [
              "  Item_Identifier  Item_Weight  ...        Outlet_Type  Item_Outlet_Sales\n",
              "0           FDA15         9.30  ...  Supermarket Type1          3735.1380\n",
              "1           DRC01         5.92  ...  Supermarket Type2           443.4228\n",
              "2           FDN15        17.50  ...  Supermarket Type1          2097.2700\n",
              "3           FDX07        19.20  ...      Grocery Store           732.3800\n",
              "4           NCD19         8.93  ...  Supermarket Type1           994.7052\n",
              "\n",
              "[5 rows x 12 columns]"
            ]
          },
          "metadata": {},
          "execution_count": 107
        }
      ]
    },
    {
      "cell_type": "code",
      "metadata": {
        "colab": {
          "base_uri": "https://localhost:8080/",
          "height": 306
        },
        "id": "4OX2vuQSJGFI",
        "outputId": "e03ad027-95bf-4ded-bc50-eb1d830f5bf0"
      },
      "source": [
        "sales = sales.rename(columns={'Item_Identifier':'item identifier',\n",
        "                              'Item_Weight': 'item weight',\n",
        "                        'Outlet_Size': 'outlet size'})\n",
        "\n",
        "sales.head()"
      ],
      "execution_count": null,
      "outputs": [
        {
          "output_type": "execute_result",
          "data": {
            "text/html": [
              "<div>\n",
              "<style scoped>\n",
              "    .dataframe tbody tr th:only-of-type {\n",
              "        vertical-align: middle;\n",
              "    }\n",
              "\n",
              "    .dataframe tbody tr th {\n",
              "        vertical-align: top;\n",
              "    }\n",
              "\n",
              "    .dataframe thead th {\n",
              "        text-align: right;\n",
              "    }\n",
              "</style>\n",
              "<table border=\"1\" class=\"dataframe\">\n",
              "  <thead>\n",
              "    <tr style=\"text-align: right;\">\n",
              "      <th></th>\n",
              "      <th>item identifier</th>\n",
              "      <th>item weight</th>\n",
              "      <th>Item_Fat_Content</th>\n",
              "      <th>Item_Visibility</th>\n",
              "      <th>Item_Type</th>\n",
              "      <th>Item_MRP</th>\n",
              "      <th>Outlet_Identifier</th>\n",
              "      <th>Outlet_Establishment_Year</th>\n",
              "      <th>outlet size</th>\n",
              "      <th>Outlet_Location_Type</th>\n",
              "      <th>Outlet_Type</th>\n",
              "      <th>Item_Outlet_Sales</th>\n",
              "    </tr>\n",
              "  </thead>\n",
              "  <tbody>\n",
              "    <tr>\n",
              "      <th>0</th>\n",
              "      <td>FDA15</td>\n",
              "      <td>9.30</td>\n",
              "      <td>Low Fat</td>\n",
              "      <td>0.016047</td>\n",
              "      <td>Dairy</td>\n",
              "      <td>249.8092</td>\n",
              "      <td>OUT049</td>\n",
              "      <td>1999</td>\n",
              "      <td>Medium</td>\n",
              "      <td>Tier 1</td>\n",
              "      <td>Supermarket Type1</td>\n",
              "      <td>3735.1380</td>\n",
              "    </tr>\n",
              "    <tr>\n",
              "      <th>1</th>\n",
              "      <td>DRC01</td>\n",
              "      <td>5.92</td>\n",
              "      <td>Regular</td>\n",
              "      <td>0.019278</td>\n",
              "      <td>Soft Drinks</td>\n",
              "      <td>48.2692</td>\n",
              "      <td>OUT018</td>\n",
              "      <td>2009</td>\n",
              "      <td>Medium</td>\n",
              "      <td>Tier 3</td>\n",
              "      <td>Supermarket Type2</td>\n",
              "      <td>443.4228</td>\n",
              "    </tr>\n",
              "    <tr>\n",
              "      <th>2</th>\n",
              "      <td>FDN15</td>\n",
              "      <td>17.50</td>\n",
              "      <td>Low Fat</td>\n",
              "      <td>0.016760</td>\n",
              "      <td>Meat</td>\n",
              "      <td>141.6180</td>\n",
              "      <td>OUT049</td>\n",
              "      <td>1999</td>\n",
              "      <td>Medium</td>\n",
              "      <td>Tier 1</td>\n",
              "      <td>Supermarket Type1</td>\n",
              "      <td>2097.2700</td>\n",
              "    </tr>\n",
              "    <tr>\n",
              "      <th>3</th>\n",
              "      <td>FDX07</td>\n",
              "      <td>19.20</td>\n",
              "      <td>Regular</td>\n",
              "      <td>0.000000</td>\n",
              "      <td>Fruits and Vegetables</td>\n",
              "      <td>182.0950</td>\n",
              "      <td>OUT010</td>\n",
              "      <td>1998</td>\n",
              "      <td>NaN</td>\n",
              "      <td>Tier 3</td>\n",
              "      <td>Grocery Store</td>\n",
              "      <td>732.3800</td>\n",
              "    </tr>\n",
              "    <tr>\n",
              "      <th>4</th>\n",
              "      <td>NCD19</td>\n",
              "      <td>8.93</td>\n",
              "      <td>Low Fat</td>\n",
              "      <td>0.000000</td>\n",
              "      <td>Household</td>\n",
              "      <td>53.8614</td>\n",
              "      <td>OUT013</td>\n",
              "      <td>1987</td>\n",
              "      <td>High</td>\n",
              "      <td>Tier 3</td>\n",
              "      <td>Supermarket Type1</td>\n",
              "      <td>994.7052</td>\n",
              "    </tr>\n",
              "  </tbody>\n",
              "</table>\n",
              "</div>"
            ],
            "text/plain": [
              "  item identifier  item weight  ...        Outlet_Type  Item_Outlet_Sales\n",
              "0           FDA15         9.30  ...  Supermarket Type1          3735.1380\n",
              "1           DRC01         5.92  ...  Supermarket Type2           443.4228\n",
              "2           FDN15        17.50  ...  Supermarket Type1          2097.2700\n",
              "3           FDX07        19.20  ...      Grocery Store           732.3800\n",
              "4           NCD19         8.93  ...  Supermarket Type1           994.7052\n",
              "\n",
              "[5 rows x 12 columns]"
            ]
          },
          "metadata": {},
          "execution_count": 108
        }
      ]
    },
    {
      "cell_type": "code",
      "metadata": {
        "id": "bPUGkSVqvGZh"
      },
      "source": [
        "check= sales.groupby(['Item_Type','outlet size'])[[\"Item_Outlet_Sales\"]].sum()\n"
      ],
      "execution_count": null,
      "outputs": []
    },
    {
      "cell_type": "code",
      "metadata": {
        "colab": {
          "base_uri": "https://localhost:8080/"
        },
        "id": "uJStbp88BhYu",
        "outputId": "e747d9b5-1d87-4198-ba53-98f13e904e65"
      },
      "source": [
        "sales.shape"
      ],
      "execution_count": null,
      "outputs": [
        {
          "output_type": "execute_result",
          "data": {
            "text/plain": [
              "(8523, 12)"
            ]
          },
          "metadata": {},
          "execution_count": 110
        }
      ]
    },
    {
      "cell_type": "code",
      "metadata": {
        "colab": {
          "base_uri": "https://localhost:8080/"
        },
        "id": "cyHdTQQVCGy6",
        "outputId": "c77791e5-712f-4009-9799-729289bd1873"
      },
      "source": [
        "sales.dtypes"
      ],
      "execution_count": null,
      "outputs": [
        {
          "output_type": "execute_result",
          "data": {
            "text/plain": [
              "item identifier               object\n",
              "item weight                  float64\n",
              "Item_Fat_Content              object\n",
              "Item_Visibility              float64\n",
              "Item_Type                     object\n",
              "Item_MRP                     float64\n",
              "Outlet_Identifier             object\n",
              "Outlet_Establishment_Year      int64\n",
              "outlet size                   object\n",
              "Outlet_Location_Type          object\n",
              "Outlet_Type                   object\n",
              "Item_Outlet_Sales            float64\n",
              "dtype: object"
            ]
          },
          "metadata": {},
          "execution_count": 111
        }
      ]
    },
    {
      "cell_type": "code",
      "metadata": {
        "colab": {
          "base_uri": "https://localhost:8080/"
        },
        "id": "W8i353PVCOfC",
        "outputId": "3dcda2b9-8662-4961-b56f-4434dcbf42bf"
      },
      "source": [
        "sales.duplicated().any()"
      ],
      "execution_count": null,
      "outputs": [
        {
          "output_type": "execute_result",
          "data": {
            "text/plain": [
              "False"
            ]
          },
          "metadata": {},
          "execution_count": 112
        }
      ]
    },
    {
      "cell_type": "code",
      "metadata": {
        "colab": {
          "base_uri": "https://localhost:8080/"
        },
        "id": "9QjhInjBCr5s",
        "outputId": "0df69c20-5bf9-4a3f-bd25-fc74568dc2ea"
      },
      "source": [
        "sales.isnull().sum() "
      ],
      "execution_count": null,
      "outputs": [
        {
          "output_type": "execute_result",
          "data": {
            "text/plain": [
              "item identifier                 0\n",
              "item weight                  1463\n",
              "Item_Fat_Content                0\n",
              "Item_Visibility                 0\n",
              "Item_Type                       0\n",
              "Item_MRP                        0\n",
              "Outlet_Identifier               0\n",
              "Outlet_Establishment_Year       0\n",
              "outlet size                  2410\n",
              "Outlet_Location_Type            0\n",
              "Outlet_Type                     0\n",
              "Item_Outlet_Sales               0\n",
              "dtype: int64"
            ]
          },
          "metadata": {},
          "execution_count": 113
        }
      ]
    },
    {
      "cell_type": "code",
      "metadata": {
        "colab": {
          "base_uri": "https://localhost:8080/"
        },
        "id": "TJDdYBo0DHUr",
        "outputId": "6303b980-7540-4250-8fb9-6f02c54fbe18"
      },
      "source": [
        "#sales[sales['outlet size'].isnull()]\n",
        "\n",
        "j=sales[sales['Outlet_Type']== 'Supermarket Type1' ]\n",
        "\n",
        "b=sales[sales['Outlet_Type']== 'Grocery Store' ]\n",
        "\n",
        "b['outlet size'].value_counts()\n",
        "\n",
        "sales['outlet size'].fillna(value = 'Small', inplace = True)\n",
        "\n",
        "sales.isnull().sum()\n",
        "# Outlet Size missing values will be changed to small because I notice most of the missing values were from grocery store and Type 1 stores and majory of those store \n",
        "#had outlet sizes of small."
      ],
      "execution_count": null,
      "outputs": [
        {
          "output_type": "execute_result",
          "data": {
            "text/plain": [
              "item identifier                 0\n",
              "item weight                  1463\n",
              "Item_Fat_Content                0\n",
              "Item_Visibility                 0\n",
              "Item_Type                       0\n",
              "Item_MRP                        0\n",
              "Outlet_Identifier               0\n",
              "Outlet_Establishment_Year       0\n",
              "outlet size                     0\n",
              "Outlet_Location_Type            0\n",
              "Outlet_Type                     0\n",
              "Item_Outlet_Sales               0\n",
              "dtype: int64"
            ]
          },
          "metadata": {},
          "execution_count": 114
        }
      ]
    },
    {
      "cell_type": "code",
      "metadata": {
        "colab": {
          "base_uri": "https://localhost:8080/"
        },
        "id": "eJVfKvYRtvjp",
        "outputId": "7ed90866-7a7d-4ae8-9932-998c82d69aeb"
      },
      "source": [
        "sales['outlet size'].value_counts()\n"
      ],
      "execution_count": null,
      "outputs": [
        {
          "output_type": "execute_result",
          "data": {
            "text/plain": [
              "Small     4798\n",
              "Medium    2793\n",
              "High       932\n",
              "Name: outlet size, dtype: int64"
            ]
          },
          "metadata": {},
          "execution_count": 115
        }
      ]
    },
    {
      "cell_type": "code",
      "metadata": {
        "id": "qGXT7I4JGkFP"
      },
      "source": [
        "\t#sales['item weight'].fillna(value = sales['item weight'].mean(), inplace = True)\n",
        "\n",
        "# decided to keep it weight and use this function to fill in the gaps because it may be important when it come to shiping cost."
      ],
      "execution_count": null,
      "outputs": []
    },
    {
      "cell_type": "code",
      "metadata": {
        "colab": {
          "base_uri": "https://localhost:8080/"
        },
        "id": "VoFIqw1YLGl9",
        "outputId": "3431f574-dc5a-4afe-ab31-bc38d7b2a453"
      },
      "source": [
        "sales.isnull().sum() \n",
        "#proof of not more empty values"
      ],
      "execution_count": null,
      "outputs": [
        {
          "output_type": "execute_result",
          "data": {
            "text/plain": [
              "item identifier                 0\n",
              "item weight                  1463\n",
              "Item_Fat_Content                0\n",
              "Item_Visibility                 0\n",
              "Item_Type                       0\n",
              "Item_MRP                        0\n",
              "Outlet_Identifier               0\n",
              "Outlet_Establishment_Year       0\n",
              "outlet size                     0\n",
              "Outlet_Location_Type            0\n",
              "Outlet_Type                     0\n",
              "Item_Outlet_Sales               0\n",
              "dtype: int64"
            ]
          },
          "metadata": {},
          "execution_count": 117
        }
      ]
    },
    {
      "cell_type": "code",
      "metadata": {
        "id": "SLeD_6CPThTl"
      },
      "source": [
        "sales.replace(['LF'],['Low Fat'], inplace=True)\n",
        "\n",
        "sales.replace(['low fat'],['Low Fat'], inplace=True)\n",
        "\n",
        "sales.replace(['reg'],['Regular'], inplace=True)\n",
        "\n",
        "sales.replace(['High'],['Large'], inplace=True)"
      ],
      "execution_count": null,
      "outputs": []
    },
    {
      "cell_type": "code",
      "metadata": {
        "colab": {
          "base_uri": "https://localhost:8080/"
        },
        "id": "1w3GauZHOzTz",
        "outputId": "960c6399-734e-4b34-8c13-10692891902b"
      },
      "source": [
        "sales['Item_Fat_Content'].value_counts()"
      ],
      "execution_count": null,
      "outputs": [
        {
          "output_type": "execute_result",
          "data": {
            "text/plain": [
              "Low Fat    5517\n",
              "Regular    3006\n",
              "Name: Item_Fat_Content, dtype: int64"
            ]
          },
          "metadata": {},
          "execution_count": 119
        }
      ]
    },
    {
      "cell_type": "code",
      "metadata": {
        "colab": {
          "base_uri": "https://localhost:8080/"
        },
        "id": "-ALHdW46proy",
        "outputId": "c3d3c4b9-b34c-47fb-a9b5-e5c7baf029c5"
      },
      "source": [
        "sales['item weight'].describe().round()"
      ],
      "execution_count": null,
      "outputs": [
        {
          "output_type": "execute_result",
          "data": {
            "text/plain": [
              "count    7060.0\n",
              "mean       13.0\n",
              "std         5.0\n",
              "min         5.0\n",
              "25%         9.0\n",
              "50%        13.0\n",
              "75%        17.0\n",
              "max        21.0\n",
              "Name: item weight, dtype: float64"
            ]
          },
          "metadata": {},
          "execution_count": 120
        }
      ]
    },
    {
      "cell_type": "code",
      "metadata": {
        "colab": {
          "base_uri": "https://localhost:8080/"
        },
        "id": "WJkUHnSpqS4R",
        "outputId": "7009189c-36f1-47c4-97aa-cb8133d604f0"
      },
      "source": [
        "sales['Item_Visibility'].describe()"
      ],
      "execution_count": null,
      "outputs": [
        {
          "output_type": "execute_result",
          "data": {
            "text/plain": [
              "count    8523.000000\n",
              "mean        0.066132\n",
              "std         0.051598\n",
              "min         0.000000\n",
              "25%         0.026989\n",
              "50%         0.053931\n",
              "75%         0.094585\n",
              "max         0.328391\n",
              "Name: Item_Visibility, dtype: float64"
            ]
          },
          "metadata": {},
          "execution_count": 121
        }
      ]
    },
    {
      "cell_type": "code",
      "metadata": {
        "colab": {
          "base_uri": "https://localhost:8080/"
        },
        "id": "EotSTPmSqcgA",
        "outputId": "a95d5075-589b-4e60-b0d6-bc3a795cf355"
      },
      "source": [
        "sales['Item_MRP'].describe().round()"
      ],
      "execution_count": null,
      "outputs": [
        {
          "output_type": "execute_result",
          "data": {
            "text/plain": [
              "count    8523.0\n",
              "mean      141.0\n",
              "std        62.0\n",
              "min        31.0\n",
              "25%        94.0\n",
              "50%       143.0\n",
              "75%       186.0\n",
              "max       267.0\n",
              "Name: Item_MRP, dtype: float64"
            ]
          },
          "metadata": {},
          "execution_count": 122
        }
      ]
    },
    {
      "cell_type": "code",
      "metadata": {
        "colab": {
          "base_uri": "https://localhost:8080/"
        },
        "id": "Dqv5abb-qozR",
        "outputId": "9999c435-9c98-47eb-9962-455ba00c2cc5"
      },
      "source": [
        "sales['Item_Outlet_Sales'].describe().round()"
      ],
      "execution_count": null,
      "outputs": [
        {
          "output_type": "execute_result",
          "data": {
            "text/plain": [
              "count     8523.0\n",
              "mean      2181.0\n",
              "std       1706.0\n",
              "min         33.0\n",
              "25%        834.0\n",
              "50%       1794.0\n",
              "75%       3101.0\n",
              "max      13087.0\n",
              "Name: Item_Outlet_Sales, dtype: float64"
            ]
          },
          "metadata": {},
          "execution_count": 123
        }
      ]
    },
    {
      "cell_type": "code",
      "metadata": {
        "colab": {
          "base_uri": "https://localhost:8080/"
        },
        "id": "-o_yIiweKgdK",
        "outputId": "1c05c40f-b7d5-4304-8c13-e46a85b10960"
      },
      "source": [
        "sales.isnull().sum() \n",
        "#proof of not more empty values"
      ],
      "execution_count": null,
      "outputs": [
        {
          "output_type": "execute_result",
          "data": {
            "text/plain": [
              "item identifier                 0\n",
              "item weight                  1463\n",
              "Item_Fat_Content                0\n",
              "Item_Visibility                 0\n",
              "Item_Type                       0\n",
              "Item_MRP                        0\n",
              "Outlet_Identifier               0\n",
              "Outlet_Establishment_Year       0\n",
              "outlet size                     0\n",
              "Outlet_Location_Type            0\n",
              "Outlet_Type                     0\n",
              "Item_Outlet_Sales               0\n",
              "dtype: int64"
            ]
          },
          "metadata": {},
          "execution_count": 124
        }
      ]
    },
    {
      "cell_type": "markdown",
      "metadata": {
        "id": "up72zj0LPSTw"
      },
      "source": [
        "Chart to see what stores made the **most** sales \n"
      ]
    },
    {
      "cell_type": "code",
      "metadata": {
        "colab": {
          "base_uri": "https://localhost:8080/",
          "height": 585
        },
        "id": "_MbPxueWIW4U",
        "outputId": "3d9048f2-00da-4e32-ddfc-03fe3ebf0278"
      },
      "source": [
        "plt.figure(figsize=(10,8))\n",
        "\n",
        "sns.barplot(data=sales, x = 'outlet size', y= 'Item_Outlet_Sales', hue='Outlet_Location_Type' );\n",
        "\n",
        "plt.title('Correlation betwen outlet size,sales and outlet type', fontsize= 16);\n",
        "\n",
        "plt.legend(bbox_to_anchor=(1,1),loc =\"upper left\");\n",
        "\n",
        "plt.tight_layout()\n",
        "\n",
        "plt.grid(c='K')\n",
        "\n",
        "plt.savefig('salesbar.png', dpi = 300);\n",
        "## It looks like Tier 3 store yeild the most sales but the medium size stores made the most sales"
      ],
      "execution_count": null,
      "outputs": [
        {
          "output_type": "display_data",
          "data": {
            "image/png": "[encoded data removed]",
            "text/plain": [
              "<Figure size 720x576 with 1 Axes>"
            ]
          },
          "metadata": {
            "needs_background": "light"
          }
        }
      ]
    },
    {
      "cell_type": "code",
      "metadata": {
        "colab": {
          "base_uri": "https://localhost:8080/",
          "height": 295
        },
        "id": "imkYDBklyRLl",
        "outputId": "6a64d6ef-b680-4a60-d508-8647eda88ad7"
      },
      "source": [
        "sales['item weight'].hist();\n",
        "plt.ylabel('Count');\n",
        "plt.xlabel('Item weight');\n",
        "plt.title('Item weight Distribution');\n",
        "# This shows that around 2300 of the items we carry are between the 11 and 13 pound range"
      ],
      "execution_count": null,
      "outputs": [
        {
          "output_type": "display_data",
          "data": {
            "image/png": "[encoded data removed]",
            "text/plain": [
              "<Figure size 432x288 with 1 Axes>"
            ]
          },
          "metadata": {
            "needs_background": "light"
          }
        }
      ]
    },
    {
      "cell_type": "code",
      "metadata": {
        "colab": {
          "base_uri": "https://localhost:8080/",
          "height": 296
        },
        "id": "eqzvyEJOwZjo",
        "outputId": "4c8e29f1-c6fc-4be5-e19d-9638a04f6fb4"
      },
      "source": [
        "sales['Item_MRP'].hist();\n",
        "plt.ylabel('Count');\n",
        "plt.xlabel('Item_MRP');\n",
        "plt.title('Item_MRP Distribution');"
      ],
      "execution_count": null,
      "outputs": [
        {
          "output_type": "display_data",
          "data": {
            "image/png": "[encoded data removed]",
            "text/plain": [
              "<Figure size 432x288 with 1 Axes>"
            ]
          },
          "metadata": {
            "needs_background": "light"
          }
        }
      ]
    },
    {
      "cell_type": "code",
      "metadata": {
        "colab": {
          "base_uri": "https://localhost:8080/",
          "height": 295
        },
        "id": "s1YoMevNzDEK",
        "outputId": "32ea8723-a67c-4869-d313-6cb6292222a7"
      },
      "source": [
        "sales['Item_Visibility'].hist();\n",
        "plt.ylabel('Count');\n",
        "plt.xlabel('Item visibility');\n",
        "plt.title('Item_Visibility Distribution');"
      ],
      "execution_count": null,
      "outputs": [
        {
          "output_type": "display_data",
          "data": {
            "image/png": "[encoded data removed]",
            "text/plain": [
              "<Figure size 432x288 with 1 Axes>"
            ]
          },
          "metadata": {
            "needs_background": "light"
          }
        }
      ]
    },
    {
      "cell_type": "code",
      "metadata": {
        "colab": {
          "base_uri": "https://localhost:8080/",
          "height": 325
        },
        "id": "vAlj8adM3Ict",
        "outputId": "ab3eb337-e224-4d9b-d6ff-3cbe61bdcc89"
      },
      "source": [
        "sns.boxplot(x='outlet size', y='Item_Outlet_Sales', hue= 'Item_Fat_Content', data=sales);\n",
        "plt.legend(bbox_to_anchor= (1,1), loc = 'upper left');\n",
        "plt.title(label=\"Sales output per store size\");\n",
        "plt.xticks(rotation= 90);"
      ],
      "execution_count": null,
      "outputs": [
        {
          "output_type": "display_data",
          "data": {
            "image/png": "[encoded data removed]",
            "text/plain": [
              "<Figure size 432x288 with 1 Axes>"
            ]
          },
          "metadata": {
            "needs_background": "light"
          }
        }
      ]
    },
    {
      "cell_type": "code",
      "metadata": {
        "colab": {
          "base_uri": "https://localhost:8080/",
          "height": 599
        },
        "id": "2GCV_86-6Pnz",
        "outputId": "e7a16a60-6072-49e2-d6e9-969099291503"
      },
      "source": [
        "\n",
        "plt.figure(figsize=(10,8))\n",
        "sns.heatmap(sales.corr(), cmap='Reds', annot=True);\n",
        "plt.tight_layout()\n",
        "plt.title('Correlation Heat Map', fontsize= 16 )\n",
        "plt.savefig('salescorr.png', dpi = 300);"
      ],
      "execution_count": null,
      "outputs": [
        {
          "output_type": "display_data",
          "data": {
            "image/png": "[encoded data removed]",
            "text/plain": [
              "<Figure size 720x576 with 2 Axes>"
            ]
          },
          "metadata": {
            "needs_background": "light"
          }
        }
      ]
    },
    {
      "cell_type": "code",
      "metadata": {
        "colab": {
          "base_uri": "https://localhost:8080/",
          "height": 585
        },
        "id": "R8YShnZ9jwNh",
        "outputId": "a0a388ad-3384-462a-a259-49e3a81fe6d2"
      },
      "source": [
        "plt.figure(figsize=(10,8))\n",
        "\n",
        "sale_f=sales.groupby(['Item_Type', 'Item_Fat_Content']).sum().reset_index()\n",
        "\n",
        "sale_f= sale_f.sort_values(by='Item_Outlet_Sales');\n",
        "\n",
        "sns.scatterplot(data= sale_f, x= 'Item_Type', y= 'Item_Outlet_Sales', hue='Item_Fat_Content');\n",
        "plt.xticks(rotation = 90);\n",
        "\n",
        "plt.legend(bbox_to_anchor= (1,1), loc = 'upper left');\n",
        "\n",
        "\n",
        "plt.grid(c='K')\n",
        "\n",
        "plt.tight_layout()\n",
        "\n",
        "plt.savefig('scatterplott.png', dpi = 300);\n"
      ],
      "execution_count": null,
      "outputs": [
        {
          "output_type": "display_data",
          "data": {
            "image/png": "[encoded data removed]",
            "text/plain": [
              "<Figure size 720x576 with 1 Axes>"
            ]
          },
          "metadata": {
            "needs_background": "light"
          }
        }
      ]
    },
    {
      "cell_type": "markdown",
      "metadata": {
        "id": "m1AuC5XaKaiY"
      },
      "source": [
        "# ***Chart to see the evolution of low fat vs regualar over time ***"
      ]
    },
    {
      "cell_type": "code",
      "metadata": {
        "id": "IbBJmv--9uHm",
        "colab": {
          "base_uri": "https://localhost:8080/",
          "height": 585
        },
        "outputId": "ccd59db5-26d6-48c8-ff51-4bf1e4ba7d02"
      },
      "source": [
        "plt.figure(figsize=(10,8))\n",
        "\n",
        "sns.lineplot(data= sales, x='Outlet_Establishment_Year', y=sales['Item_Outlet_Sales'].cumsum(),hue=\t'Item_Fat_Content', );\n",
        "\n",
        "plt.title('sales performance over time');\n",
        "plt.ylabel('Sales',fontsize=15);\n",
        "plt.xlabel('Establishment Years',fontsize=15);\n",
        "\n",
        "plt.grid(c='K')\n",
        "\n",
        "plt.tight_layout();\n",
        "\n",
        "plt.savefig('lineplot.png', dpi = 300);\n"
      ],
      "execution_count": null,
      "outputs": [
        {
          "output_type": "display_data",
          "data": {
            "image/png": "[encoded data removed]",
            "text/plain": [
              "<Figure size 720x576 with 1 Axes>"
            ]
          },
          "metadata": {
            "needs_background": "light"
          }
        }
      ]
    },
    {
      "cell_type": "code",
      "metadata": {
        "colab": {
          "base_uri": "https://localhost:8080/",
          "height": 210
        },
        "id": "6Bq-D2Q9lk99",
        "outputId": "8f06fd69-c48b-4e76-e8c7-490bb124784f"
      },
      "source": [
        "sales.head(3)"
      ],
      "execution_count": null,
      "outputs": [
        {
          "output_type": "execute_result",
          "data": {
            "text/html": [
              "<div>\n",
              "<style scoped>\n",
              "    .dataframe tbody tr th:only-of-type {\n",
              "        vertical-align: middle;\n",
              "    }\n",
              "\n",
              "    .dataframe tbody tr th {\n",
              "        vertical-align: top;\n",
              "    }\n",
              "\n",
              "    .dataframe thead th {\n",
              "        text-align: right;\n",
              "    }\n",
              "</style>\n",
              "<table border=\"1\" class=\"dataframe\">\n",
              "  <thead>\n",
              "    <tr style=\"text-align: right;\">\n",
              "      <th></th>\n",
              "      <th>item identifier</th>\n",
              "      <th>item weight</th>\n",
              "      <th>Item_Fat_Content</th>\n",
              "      <th>Item_Visibility</th>\n",
              "      <th>Item_Type</th>\n",
              "      <th>Item_MRP</th>\n",
              "      <th>Outlet_Identifier</th>\n",
              "      <th>Outlet_Establishment_Year</th>\n",
              "      <th>outlet size</th>\n",
              "      <th>Outlet_Location_Type</th>\n",
              "      <th>Outlet_Type</th>\n",
              "      <th>Item_Outlet_Sales</th>\n",
              "    </tr>\n",
              "  </thead>\n",
              "  <tbody>\n",
              "    <tr>\n",
              "      <th>0</th>\n",
              "      <td>FDA15</td>\n",
              "      <td>9.30</td>\n",
              "      <td>Low Fat</td>\n",
              "      <td>0.016047</td>\n",
              "      <td>Dairy</td>\n",
              "      <td>249.8092</td>\n",
              "      <td>OUT049</td>\n",
              "      <td>1999</td>\n",
              "      <td>Medium</td>\n",
              "      <td>Tier 1</td>\n",
              "      <td>Supermarket Type1</td>\n",
              "      <td>3735.1380</td>\n",
              "    </tr>\n",
              "    <tr>\n",
              "      <th>1</th>\n",
              "      <td>DRC01</td>\n",
              "      <td>5.92</td>\n",
              "      <td>Regular</td>\n",
              "      <td>0.019278</td>\n",
              "      <td>Soft Drinks</td>\n",
              "      <td>48.2692</td>\n",
              "      <td>OUT018</td>\n",
              "      <td>2009</td>\n",
              "      <td>Medium</td>\n",
              "      <td>Tier 3</td>\n",
              "      <td>Supermarket Type2</td>\n",
              "      <td>443.4228</td>\n",
              "    </tr>\n",
              "    <tr>\n",
              "      <th>2</th>\n",
              "      <td>FDN15</td>\n",
              "      <td>17.50</td>\n",
              "      <td>Low Fat</td>\n",
              "      <td>0.016760</td>\n",
              "      <td>Meat</td>\n",
              "      <td>141.6180</td>\n",
              "      <td>OUT049</td>\n",
              "      <td>1999</td>\n",
              "      <td>Medium</td>\n",
              "      <td>Tier 1</td>\n",
              "      <td>Supermarket Type1</td>\n",
              "      <td>2097.2700</td>\n",
              "    </tr>\n",
              "  </tbody>\n",
              "</table>\n",
              "</div>"
            ],
            "text/plain": [
              "  item identifier  item weight  ...        Outlet_Type  Item_Outlet_Sales\n",
              "0           FDA15         9.30  ...  Supermarket Type1          3735.1380\n",
              "1           DRC01         5.92  ...  Supermarket Type2           443.4228\n",
              "2           FDN15        17.50  ...  Supermarket Type1          2097.2700\n",
              "\n",
              "[3 rows x 12 columns]"
            ]
          },
          "metadata": {},
          "execution_count": 133
        }
      ]
    },
    {
      "cell_type": "markdown",
      "metadata": {
        "id": "IiZLEfHnKZFD"
      },
      "source": [
        "# ***This is where we start machine learming on this data to predeict data***"
      ]
    },
    {
      "cell_type": "markdown",
      "metadata": {
        "id": "Vj-4XMymkuiK"
      },
      "source": [
        "we will start be selecting the X and y split."
      ]
    },
    {
      "cell_type": "code",
      "metadata": {
        "id": "1nT6linlKXza"
      },
      "source": [
        "X = sales.drop(columns = 'Item_Outlet_Sales' )\n",
        "\n",
        "y = sales['Item_Outlet_Sales']\n",
        "\n",
        "\n",
        "X_train, X_test, y_train, y_test = train_test_split(X, y, random_state=42)\n"
      ],
      "execution_count": null,
      "outputs": []
    },
    {
      "cell_type": "markdown",
      "metadata": {
        "id": "lFQxdbI7mHsM"
      },
      "source": [
        "# *In our data there is two Ordinal data columns*"
      ]
    },
    {
      "cell_type": "code",
      "metadata": {
        "colab": {
          "base_uri": "https://localhost:8080/",
          "height": 204
        },
        "id": "irC0cwJmmWQV",
        "outputId": "ed292aa1-52f1-4c42-cb93-bec6c1fc95a8"
      },
      "source": [
        "olt = {'Tier 1': 0, 'Tier 2': 1, 'Tier 3': 2 };\n",
        "\n",
        "ot = {'Small': 0, 'Medium': 1, 'High': 2 };\n",
        "\n",
        "X_train['Outlet_Location_Type'] = X_train['Outlet_Location_Type'].replace(olt, inplace= True);\n",
        "\n",
        "X_train['outlet size'] = X_train['outlet size'].replace(ot, inplace= True);\n",
        "#checking to see if the changes were sucessfull\n",
        "X_train.head()\n",
        "\n"
      ],
      "execution_count": null,
      "outputs": [
        {
          "output_type": "execute_result",
          "data": {
            "text/html": [
              "<div>\n",
              "<style scoped>\n",
              "    .dataframe tbody tr th:only-of-type {\n",
              "        vertical-align: middle;\n",
              "    }\n",
              "\n",
              "    .dataframe tbody tr th {\n",
              "        vertical-align: top;\n",
              "    }\n",
              "\n",
              "    .dataframe thead th {\n",
              "        text-align: right;\n",
              "    }\n",
              "</style>\n",
              "<table border=\"1\" class=\"dataframe\">\n",
              "  <thead>\n",
              "    <tr style=\"text-align: right;\">\n",
              "      <th></th>\n",
              "      <th>item identifier</th>\n",
              "      <th>item weight</th>\n",
              "      <th>Item_Fat_Content</th>\n",
              "      <th>Item_Visibility</th>\n",
              "      <th>Item_Type</th>\n",
              "      <th>Item_MRP</th>\n",
              "      <th>Outlet_Identifier</th>\n",
              "      <th>Outlet_Establishment_Year</th>\n",
              "      <th>outlet size</th>\n",
              "      <th>Outlet_Location_Type</th>\n",
              "      <th>Outlet_Type</th>\n",
              "    </tr>\n",
              "  </thead>\n",
              "  <tbody>\n",
              "    <tr>\n",
              "      <th>4776</th>\n",
              "      <td>NCG06</td>\n",
              "      <td>16.350</td>\n",
              "      <td>Low Fat</td>\n",
              "      <td>0.029565</td>\n",
              "      <td>Household</td>\n",
              "      <td>256.4646</td>\n",
              "      <td>OUT018</td>\n",
              "      <td>2009</td>\n",
              "      <td>None</td>\n",
              "      <td>None</td>\n",
              "      <td>Supermarket Type2</td>\n",
              "    </tr>\n",
              "    <tr>\n",
              "      <th>7510</th>\n",
              "      <td>FDV57</td>\n",
              "      <td>15.250</td>\n",
              "      <td>Regular</td>\n",
              "      <td>0.000000</td>\n",
              "      <td>Snack Foods</td>\n",
              "      <td>179.7660</td>\n",
              "      <td>OUT018</td>\n",
              "      <td>2009</td>\n",
              "      <td>None</td>\n",
              "      <td>None</td>\n",
              "      <td>Supermarket Type2</td>\n",
              "    </tr>\n",
              "    <tr>\n",
              "      <th>5828</th>\n",
              "      <td>FDM27</td>\n",
              "      <td>12.350</td>\n",
              "      <td>Regular</td>\n",
              "      <td>0.158716</td>\n",
              "      <td>Meat</td>\n",
              "      <td>157.2946</td>\n",
              "      <td>OUT049</td>\n",
              "      <td>1999</td>\n",
              "      <td>None</td>\n",
              "      <td>None</td>\n",
              "      <td>Supermarket Type1</td>\n",
              "    </tr>\n",
              "    <tr>\n",
              "      <th>5327</th>\n",
              "      <td>FDG24</td>\n",
              "      <td>7.975</td>\n",
              "      <td>Low Fat</td>\n",
              "      <td>0.014628</td>\n",
              "      <td>Baking Goods</td>\n",
              "      <td>82.3250</td>\n",
              "      <td>OUT035</td>\n",
              "      <td>2004</td>\n",
              "      <td>None</td>\n",
              "      <td>None</td>\n",
              "      <td>Supermarket Type1</td>\n",
              "    </tr>\n",
              "    <tr>\n",
              "      <th>4810</th>\n",
              "      <td>FDD05</td>\n",
              "      <td>19.350</td>\n",
              "      <td>Low Fat</td>\n",
              "      <td>0.016645</td>\n",
              "      <td>Frozen Foods</td>\n",
              "      <td>120.9098</td>\n",
              "      <td>OUT045</td>\n",
              "      <td>2002</td>\n",
              "      <td>None</td>\n",
              "      <td>None</td>\n",
              "      <td>Supermarket Type1</td>\n",
              "    </tr>\n",
              "  </tbody>\n",
              "</table>\n",
              "</div>"
            ],
            "text/plain": [
              "     item identifier  item weight  ... Outlet_Location_Type        Outlet_Type\n",
              "4776           NCG06       16.350  ...                 None  Supermarket Type2\n",
              "7510           FDV57       15.250  ...                 None  Supermarket Type2\n",
              "5828           FDM27       12.350  ...                 None  Supermarket Type1\n",
              "5327           FDG24        7.975  ...                 None  Supermarket Type1\n",
              "4810           FDD05       19.350  ...                 None  Supermarket Type1\n",
              "\n",
              "[5 rows x 11 columns]"
            ]
          },
          "metadata": {},
          "execution_count": 135
        }
      ]
    },
    {
      "cell_type": "markdown",
      "metadata": {
        "id": "zQgO67AElrCf"
      },
      "source": [
        "# ***Using column selector to seperate my columns so I can transform them appropriately.***"
      ]
    },
    {
      "cell_type": "code",
      "metadata": {
        "id": "y9bWNH3CnmIu"
      },
      "source": [
        "#selecting all my numerical columns\n",
        "num_selector = make_column_selector(dtype_include='number')\n",
        "#selecting on my object columns\n",
        "cat_selector = make_column_selector(dtype_include='object')\n"
      ],
      "execution_count": null,
      "outputs": []
    },
    {
      "cell_type": "markdown",
      "metadata": {
        "id": "ie4oxyAAnAjy"
      },
      "source": [
        "# ***Making a variable for my one hot encoder and passing it on my categorical columns***"
      ]
    },
    {
      "cell_type": "code",
      "metadata": {
        "id": "j0iyxtDrk381"
      },
      "source": [
        "ohe_encoder = OneHotEncoder(sparse=False, handle_unknown='ignore')\n",
        "ohe= (ohe_encoder, cat_selector)\n"
      ],
      "execution_count": null,
      "outputs": []
    },
    {
      "cell_type": "markdown",
      "metadata": {
        "id": "A0YU3TOYnm85"
      },
      "source": [
        "# Making a variable for Imputer function and passing it on my numerical columns using the median colums , so I can get ints ranther than floats on the column with missing data.***italicized text***"
      ]
    },
    {
      "cell_type": "code",
      "metadata": {
        "id": "Zpcay8jzk4Gz"
      },
      "source": [
        "imputer = SimpleImputer(strategy='mean')\n",
        "med_t= (imputer, num_selector )"
      ],
      "execution_count": null,
      "outputs": []
    },
    {
      "cell_type": "markdown",
      "metadata": {
        "id": "XrN6iJwooPUM"
      },
      "source": [
        "# ***Creating a variable with the column transfer function and passing the imputer and the OHE variable to be transformed***"
      ]
    },
    {
      "cell_type": "code",
      "metadata": {
        "id": "WfHs2kw1k4Ra"
      },
      "source": [
        "column_transformer = make_column_transformer(ohe, med_t, remainder= 'passthrough')\n",
        "\n",
        "#Creating a linear Regression model to be later passed on to my data using pipeline\n",
        "lin_reg= LinearRegression()"
      ],
      "execution_count": null,
      "outputs": []
    },
    {
      "cell_type": "markdown",
      "metadata": {
        "id": "D_IFEsGFozX7"
      },
      "source": [
        "Using pipe function to creat a variable to pass fit our column transformer and our linear Regrestion model onto our data. \n",
        "# ***Then fiting that variable on to our training data.***"
      ]
    },
    {
      "cell_type": "code",
      "metadata": {
        "colab": {
          "base_uri": "https://localhost:8080/"
        },
        "id": "EvYIryu8nmVZ",
        "outputId": "3356af0d-0c79-4213-a0fc-ebb621444065"
      },
      "source": [
        "\n",
        "pipe= make_pipeline(column_transformer, lin_reg)\n",
        "\n",
        "pipe.fit(X_train, y_train)\n"
      ],
      "execution_count": null,
      "outputs": [
        {
          "output_type": "execute_result",
          "data": {
            "text/plain": [
              "Pipeline(steps=[('columntransformer',\n",
              "                 ColumnTransformer(remainder='passthrough',\n",
              "                                   transformers=[('onehotencoder',\n",
              "                                                  OneHotEncoder(handle_unknown='ignore',\n",
              "                                                                sparse=False),\n",
              "                                                  <sklearn.compose._column_transformer.make_column_selector object at 0x7f1ceb4e26d0>),\n",
              "                                                 ('simpleimputer',\n",
              "                                                  SimpleImputer(),\n",
              "                                                  <sklearn.compose._column_transformer.make_column_selector object at 0x7f1ceb4e2910>)])),\n",
              "                ('linearregression', LinearRegression())])"
            ]
          },
          "metadata": {},
          "execution_count": 140
        }
      ]
    },
    {
      "cell_type": "markdown",
      "metadata": {
        "id": "pZ55PG43tI5C"
      },
      "source": [
        "## ***Here I am importing the sklean metrics to evaluate my model***"
      ]
    },
    {
      "cell_type": "code",
      "metadata": {
        "id": "BNjsbdi4iF_p"
      },
      "source": [
        "from sklearn.metrics import r2_score\n",
        "from sklearn.metrics import mean_absolute_error\n",
        "from sklearn.metrics import mean_squared_error"
      ],
      "execution_count": null,
      "outputs": []
    },
    {
      "cell_type": "markdown",
      "metadata": {
        "id": "LoLbHOE9tbzC"
      },
      "source": [
        "# ***I have created a function to help me quickly evaluate my models***"
      ]
    },
    {
      "cell_type": "code",
      "metadata": {
        "id": "dKYGJgSEkTBK"
      },
      "source": [
        "def evaluate_model(pipe, X_train, y_train):\n",
        "  yhattrain = pipe.predict(X_train)\n",
        "  mae_train = mean_absolute_error(y_train, yhattrain)\n",
        "  mse_train = mean_squared_error(y_train, yhattrain)\n",
        "  rmse_train = np.sqrt(mse_train)\n",
        "  r2_train = r2_score(y_train, yhattrain)\n",
        "  print('MAE: ', mae_train)\n",
        "  print('MSE: ', mse_train)\n",
        "  print('RMSE: ', rmse_train)\n",
        "  print('R2: ', r2_train)\n"
      ],
      "execution_count": null,
      "outputs": []
    },
    {
      "cell_type": "markdown",
      "metadata": {
        "id": "Wlxq6gEXttyO"
      },
      "source": [
        "# ***Evalutaing the training data by passing it into my function***"
      ]
    },
    {
      "cell_type": "code",
      "metadata": {
        "colab": {
          "base_uri": "https://localhost:8080/"
        },
        "id": "KhhpUMUWnWBH",
        "outputId": "6c7f4be6-9216-42a4-e711-c2efb0969c14"
      },
      "source": [
        "evaluate_model(pipe, X_train, y_train)"
      ],
      "execution_count": null,
      "outputs": [
        {
          "output_type": "stream",
          "name": "stdout",
          "text": [
            "MAE:  735.6592085595275\n",
            "MSE:  971595.8405660437\n",
            "RMSE:  985.6956125326133\n",
            "R2:  0.6716977925772079\n"
          ]
        }
      ]
    },
    {
      "cell_type": "markdown",
      "metadata": {
        "id": "kNNj0lkYt5_C"
      },
      "source": [
        "# ***Evalutaing the testing data by passing it into my function***"
      ]
    },
    {
      "cell_type": "code",
      "metadata": {
        "colab": {
          "base_uri": "https://localhost:8080/"
        },
        "id": "Sp9iEl4ZoU5h",
        "outputId": "1015e96a-c506-4a4c-de30-02c311cbf000"
      },
      "source": [
        "evaluate_model(pipe,X_test, y_test)"
      ],
      "execution_count": null,
      "outputs": [
        {
          "output_type": "stream",
          "name": "stdout",
          "text": [
            "MAE:  4313328852.369689\n",
            "MSE:  3.774327029201925e+21\n",
            "RMSE:  61435551834.43805\n",
            "R2:  -1368016708902470.0\n"
          ]
        }
      ]
    },
    {
      "cell_type": "markdown",
      "metadata": {
        "id": "e17K0ET7uC0o"
      },
      "source": [
        "# ***I am importing DecisionTreeRegressor to use for modeling my data***"
      ]
    },
    {
      "cell_type": "code",
      "metadata": {
        "id": "edeG_ThAma23"
      },
      "source": [
        "from sklearn.tree import DecisionTreeRegressor"
      ],
      "execution_count": null,
      "outputs": []
    },
    {
      "cell_type": "markdown",
      "metadata": {
        "id": "HFScuENpwf5P"
      },
      "source": [
        "Instantiating the descision tree object."
      ]
    },
    {
      "cell_type": "code",
      "metadata": {
        "id": "IvhzPSD0uZcV"
      },
      "source": [
        "dec_tree = DecisionTreeRegressor(max_depth=60,random_state = 42)"
      ],
      "execution_count": null,
      "outputs": []
    },
    {
      "cell_type": "markdown",
      "metadata": {
        "id": "zgwTl21bxu9j"
      },
      "source": [
        "creating a new pipline and fiting it onto my data"
      ]
    },
    {
      "cell_type": "code",
      "metadata": {
        "colab": {
          "base_uri": "https://localhost:8080/"
        },
        "id": "-rfcdzDiuBoE",
        "outputId": "ca889726-cdf8-487e-cedd-539b824dc5f8"
      },
      "source": [
        "pipe2= make_pipeline(column_transformer, dec_tree)\n",
        "\n",
        "pipe2.fit(X_train, y_train)"
      ],
      "execution_count": null,
      "outputs": [
        {
          "output_type": "execute_result",
          "data": {
            "text/plain": [
              "Pipeline(steps=[('columntransformer',\n",
              "                 ColumnTransformer(remainder='passthrough',\n",
              "                                   transformers=[('onehotencoder',\n",
              "                                                  OneHotEncoder(handle_unknown='ignore',\n",
              "                                                                sparse=False),\n",
              "                                                  <sklearn.compose._column_transformer.make_column_selector object at 0x7f1ceb4e26d0>),\n",
              "                                                 ('simpleimputer',\n",
              "                                                  SimpleImputer(),\n",
              "                                                  <sklearn.compose._column_transformer.make_column_selector object at 0x7f1ceb4e2910>)])),\n",
              "                ('decisiontreeregressor',\n",
              "                 DecisionTreeRegressor(max_depth=60, random_state=42))])"
            ]
          },
          "metadata": {},
          "execution_count": 147
        }
      ]
    },
    {
      "cell_type": "markdown",
      "metadata": {
        "id": "Aik9HW5fx2_L"
      },
      "source": [
        "# ***Evaluating  both my train and my test data***"
      ]
    },
    {
      "cell_type": "code",
      "metadata": {
        "colab": {
          "base_uri": "https://localhost:8080/"
        },
        "id": "GjBsQrc6uNHd",
        "outputId": "81b63949-631d-45ff-e2a3-efbf855cfc70"
      },
      "source": [
        "evaluate_model(pipe2, X_train, y_train)"
      ],
      "execution_count": null,
      "outputs": [
        {
          "output_type": "stream",
          "name": "stdout",
          "text": [
            "MAE:  1.2005415435245748e-16\n",
            "MSE:  2.4643264323299693e-29\n",
            "RMSE:  4.96419825584149e-15\n",
            "R2:  1.0\n"
          ]
        }
      ]
    },
    {
      "cell_type": "code",
      "metadata": {
        "colab": {
          "base_uri": "https://localhost:8080/"
        },
        "id": "GTn2XCRLu59t",
        "outputId": "d3f4137b-819c-45b1-ba40-2396209b0e2d"
      },
      "source": [
        "evaluate_model(pipe2, X_test, y_test)"
      ],
      "execution_count": null,
      "outputs": [
        {
          "output_type": "stream",
          "name": "stdout",
          "text": [
            "MAE:  997.5418016893478\n",
            "MSE:  2135541.008714244\n",
            "RMSE:  1461.349037264624\n",
            "R2:  0.22596644120547782\n"
          ]
        }
      ]
    }
  ]
}