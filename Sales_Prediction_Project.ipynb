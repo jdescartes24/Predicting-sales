{
  "nbformat": 4,
  "nbformat_minor": 0,
  "metadata": {
    "colab": {
      "name": "Sales Prediction Project",
      "provenance": [],
      "collapsed_sections": [],
      "authorship_tag": "ABX9TyN6jPrRNk4bi9t0mGWfHPcP",
      "include_colab_link": true
    },
    "kernelspec": {
      "name": "python3",
      "display_name": "Python 3"
    },
    "language_info": {
      "name": "python"
    }
  },
  "cells": [
    {
      "cell_type": "markdown",
      "metadata": {
        "id": "view-in-github",
        "colab_type": "text"
      },
      "source": [
        "<a href=\"https://colab.research.google.com/github/jdescartes24/Predicting-sales/blob/main/Sales_Prediction_Project.ipynb\" target=\"_parent\"><img src=\"https://colab.research.google.com/assets/colab-badge.svg\" alt=\"Open In Colab\"/></a>"
      ]
    },
    {
      "cell_type": "code",
      "metadata": {
        "colab": {
          "base_uri": "https://localhost:8080/",
          "height": 309
        },
        "id": "0_ApBwfFBdY1",
        "outputId": "4b4b615e-f935-4b2d-e978-fe9d8218de77"
      },
      "source": [
        "import pandas as pd\n",
        "import matplotlib.pyplot as plt\n",
        "import seaborn as sns \n",
        "import numpy as np\n",
        "import pandas as pd\n",
        "from sklearn.pipeline import make_pipeline\n",
        "from sklearn.linear_model import LinearRegression\n",
        "from sklearn.impute import SimpleImputer\n",
        "from sklearn.model_selection import train_test_split\n",
        "from sklearn.metrics import r2_score\n",
        "from sklearn.pipeline import make_pipeline\n",
        "from sklearn.compose import make_column_transformer\n",
        "from sklearn.compose import make_column_selector\n",
        "from sklearn.preprocessing import OneHotEncoder\n",
        "from sklearn.compose import make_column_transformer\n",
        "sales_predictions=  '/content/sales_predictions.csv'\n",
        "\n",
        "sales=pd.read_csv(sales_predictions)\n",
        "\n",
        "sales.head()\n",
        "\n"
      ],
      "execution_count": 390,
      "outputs": [
        {
          "output_type": "execute_result",
          "data": {
            "text/html": [
              "<div>\n",
              "<style scoped>\n",
              "    .dataframe tbody tr th:only-of-type {\n",
              "        vertical-align: middle;\n",
              "    }\n",
              "\n",
              "    .dataframe tbody tr th {\n",
              "        vertical-align: top;\n",
              "    }\n",
              "\n",
              "    .dataframe thead th {\n",
              "        text-align: right;\n",
              "    }\n",
              "</style>\n",
              "<table border=\"1\" class=\"dataframe\">\n",
              "  <thead>\n",
              "    <tr style=\"text-align: right;\">\n",
              "      <th></th>\n",
              "      <th>Item_Identifier</th>\n",
              "      <th>Item_Weight</th>\n",
              "      <th>Item_Fat_Content</th>\n",
              "      <th>Item_Visibility</th>\n",
              "      <th>Item_Type</th>\n",
              "      <th>Item_MRP</th>\n",
              "      <th>Outlet_Identifier</th>\n",
              "      <th>Outlet_Establishment_Year</th>\n",
              "      <th>Outlet_Size</th>\n",
              "      <th>Outlet_Location_Type</th>\n",
              "      <th>Outlet_Type</th>\n",
              "      <th>Item_Outlet_Sales</th>\n",
              "    </tr>\n",
              "  </thead>\n",
              "  <tbody>\n",
              "    <tr>\n",
              "      <th>0</th>\n",
              "      <td>FDA15</td>\n",
              "      <td>9.30</td>\n",
              "      <td>Low Fat</td>\n",
              "      <td>0.016047</td>\n",
              "      <td>Dairy</td>\n",
              "      <td>249.8092</td>\n",
              "      <td>OUT049</td>\n",
              "      <td>1999</td>\n",
              "      <td>Medium</td>\n",
              "      <td>Tier 1</td>\n",
              "      <td>Supermarket Type1</td>\n",
              "      <td>3735.1380</td>\n",
              "    </tr>\n",
              "    <tr>\n",
              "      <th>1</th>\n",
              "      <td>DRC01</td>\n",
              "      <td>5.92</td>\n",
              "      <td>Regular</td>\n",
              "      <td>0.019278</td>\n",
              "      <td>Soft Drinks</td>\n",
              "      <td>48.2692</td>\n",
              "      <td>OUT018</td>\n",
              "      <td>2009</td>\n",
              "      <td>Medium</td>\n",
              "      <td>Tier 3</td>\n",
              "      <td>Supermarket Type2</td>\n",
              "      <td>443.4228</td>\n",
              "    </tr>\n",
              "    <tr>\n",
              "      <th>2</th>\n",
              "      <td>FDN15</td>\n",
              "      <td>17.50</td>\n",
              "      <td>Low Fat</td>\n",
              "      <td>0.016760</td>\n",
              "      <td>Meat</td>\n",
              "      <td>141.6180</td>\n",
              "      <td>OUT049</td>\n",
              "      <td>1999</td>\n",
              "      <td>Medium</td>\n",
              "      <td>Tier 1</td>\n",
              "      <td>Supermarket Type1</td>\n",
              "      <td>2097.2700</td>\n",
              "    </tr>\n",
              "    <tr>\n",
              "      <th>3</th>\n",
              "      <td>FDX07</td>\n",
              "      <td>19.20</td>\n",
              "      <td>Regular</td>\n",
              "      <td>0.000000</td>\n",
              "      <td>Fruits and Vegetables</td>\n",
              "      <td>182.0950</td>\n",
              "      <td>OUT010</td>\n",
              "      <td>1998</td>\n",
              "      <td>NaN</td>\n",
              "      <td>Tier 3</td>\n",
              "      <td>Grocery Store</td>\n",
              "      <td>732.3800</td>\n",
              "    </tr>\n",
              "    <tr>\n",
              "      <th>4</th>\n",
              "      <td>NCD19</td>\n",
              "      <td>8.93</td>\n",
              "      <td>Low Fat</td>\n",
              "      <td>0.000000</td>\n",
              "      <td>Household</td>\n",
              "      <td>53.8614</td>\n",
              "      <td>OUT013</td>\n",
              "      <td>1987</td>\n",
              "      <td>High</td>\n",
              "      <td>Tier 3</td>\n",
              "      <td>Supermarket Type1</td>\n",
              "      <td>994.7052</td>\n",
              "    </tr>\n",
              "  </tbody>\n",
              "</table>\n",
              "</div>"
            ],
            "text/plain": [
              "  Item_Identifier  Item_Weight  ...        Outlet_Type  Item_Outlet_Sales\n",
              "0           FDA15         9.30  ...  Supermarket Type1          3735.1380\n",
              "1           DRC01         5.92  ...  Supermarket Type2           443.4228\n",
              "2           FDN15        17.50  ...  Supermarket Type1          2097.2700\n",
              "3           FDX07        19.20  ...      Grocery Store           732.3800\n",
              "4           NCD19         8.93  ...  Supermarket Type1           994.7052\n",
              "\n",
              "[5 rows x 12 columns]"
            ]
          },
          "metadata": {},
          "execution_count": 390
        }
      ]
    },
    {
      "cell_type": "code",
      "metadata": {
        "colab": {
          "base_uri": "https://localhost:8080/",
          "height": 306
        },
        "id": "4OX2vuQSJGFI",
        "outputId": "ffacf1fd-c687-4ce0-90a4-380980d801c9"
      },
      "source": [
        "sales = sales.rename(columns={'Item_Identifier':'item identifier',\n",
        "                              'Item_Weight': 'item weight',\n",
        "                        'Outlet_Size': 'outlet size'})\n",
        "\n",
        "sales.head()"
      ],
      "execution_count": 391,
      "outputs": [
        {
          "output_type": "execute_result",
          "data": {
            "text/html": [
              "<div>\n",
              "<style scoped>\n",
              "    .dataframe tbody tr th:only-of-type {\n",
              "        vertical-align: middle;\n",
              "    }\n",
              "\n",
              "    .dataframe tbody tr th {\n",
              "        vertical-align: top;\n",
              "    }\n",
              "\n",
              "    .dataframe thead th {\n",
              "        text-align: right;\n",
              "    }\n",
              "</style>\n",
              "<table border=\"1\" class=\"dataframe\">\n",
              "  <thead>\n",
              "    <tr style=\"text-align: right;\">\n",
              "      <th></th>\n",
              "      <th>item identifier</th>\n",
              "      <th>item weight</th>\n",
              "      <th>Item_Fat_Content</th>\n",
              "      <th>Item_Visibility</th>\n",
              "      <th>Item_Type</th>\n",
              "      <th>Item_MRP</th>\n",
              "      <th>Outlet_Identifier</th>\n",
              "      <th>Outlet_Establishment_Year</th>\n",
              "      <th>outlet size</th>\n",
              "      <th>Outlet_Location_Type</th>\n",
              "      <th>Outlet_Type</th>\n",
              "      <th>Item_Outlet_Sales</th>\n",
              "    </tr>\n",
              "  </thead>\n",
              "  <tbody>\n",
              "    <tr>\n",
              "      <th>0</th>\n",
              "      <td>FDA15</td>\n",
              "      <td>9.30</td>\n",
              "      <td>Low Fat</td>\n",
              "      <td>0.016047</td>\n",
              "      <td>Dairy</td>\n",
              "      <td>249.8092</td>\n",
              "      <td>OUT049</td>\n",
              "      <td>1999</td>\n",
              "      <td>Medium</td>\n",
              "      <td>Tier 1</td>\n",
              "      <td>Supermarket Type1</td>\n",
              "      <td>3735.1380</td>\n",
              "    </tr>\n",
              "    <tr>\n",
              "      <th>1</th>\n",
              "      <td>DRC01</td>\n",
              "      <td>5.92</td>\n",
              "      <td>Regular</td>\n",
              "      <td>0.019278</td>\n",
              "      <td>Soft Drinks</td>\n",
              "      <td>48.2692</td>\n",
              "      <td>OUT018</td>\n",
              "      <td>2009</td>\n",
              "      <td>Medium</td>\n",
              "      <td>Tier 3</td>\n",
              "      <td>Supermarket Type2</td>\n",
              "      <td>443.4228</td>\n",
              "    </tr>\n",
              "    <tr>\n",
              "      <th>2</th>\n",
              "      <td>FDN15</td>\n",
              "      <td>17.50</td>\n",
              "      <td>Low Fat</td>\n",
              "      <td>0.016760</td>\n",
              "      <td>Meat</td>\n",
              "      <td>141.6180</td>\n",
              "      <td>OUT049</td>\n",
              "      <td>1999</td>\n",
              "      <td>Medium</td>\n",
              "      <td>Tier 1</td>\n",
              "      <td>Supermarket Type1</td>\n",
              "      <td>2097.2700</td>\n",
              "    </tr>\n",
              "    <tr>\n",
              "      <th>3</th>\n",
              "      <td>FDX07</td>\n",
              "      <td>19.20</td>\n",
              "      <td>Regular</td>\n",
              "      <td>0.000000</td>\n",
              "      <td>Fruits and Vegetables</td>\n",
              "      <td>182.0950</td>\n",
              "      <td>OUT010</td>\n",
              "      <td>1998</td>\n",
              "      <td>NaN</td>\n",
              "      <td>Tier 3</td>\n",
              "      <td>Grocery Store</td>\n",
              "      <td>732.3800</td>\n",
              "    </tr>\n",
              "    <tr>\n",
              "      <th>4</th>\n",
              "      <td>NCD19</td>\n",
              "      <td>8.93</td>\n",
              "      <td>Low Fat</td>\n",
              "      <td>0.000000</td>\n",
              "      <td>Household</td>\n",
              "      <td>53.8614</td>\n",
              "      <td>OUT013</td>\n",
              "      <td>1987</td>\n",
              "      <td>High</td>\n",
              "      <td>Tier 3</td>\n",
              "      <td>Supermarket Type1</td>\n",
              "      <td>994.7052</td>\n",
              "    </tr>\n",
              "  </tbody>\n",
              "</table>\n",
              "</div>"
            ],
            "text/plain": [
              "  item identifier  item weight  ...        Outlet_Type  Item_Outlet_Sales\n",
              "0           FDA15         9.30  ...  Supermarket Type1          3735.1380\n",
              "1           DRC01         5.92  ...  Supermarket Type2           443.4228\n",
              "2           FDN15        17.50  ...  Supermarket Type1          2097.2700\n",
              "3           FDX07        19.20  ...      Grocery Store           732.3800\n",
              "4           NCD19         8.93  ...  Supermarket Type1           994.7052\n",
              "\n",
              "[5 rows x 12 columns]"
            ]
          },
          "metadata": {},
          "execution_count": 391
        }
      ]
    },
    {
      "cell_type": "code",
      "metadata": {
        "id": "bPUGkSVqvGZh"
      },
      "source": [
        "check= sales.groupby(['Item_Type','outlet size'])[[\"Item_Outlet_Sales\"]].sum()\n"
      ],
      "execution_count": 392,
      "outputs": []
    },
    {
      "cell_type": "code",
      "metadata": {
        "colab": {
          "base_uri": "https://localhost:8080/"
        },
        "id": "uJStbp88BhYu",
        "outputId": "398dbffb-762c-4fad-8694-92859335840a"
      },
      "source": [
        "sales.shape"
      ],
      "execution_count": 393,
      "outputs": [
        {
          "output_type": "execute_result",
          "data": {
            "text/plain": [
              "(8523, 12)"
            ]
          },
          "metadata": {},
          "execution_count": 393
        }
      ]
    },
    {
      "cell_type": "code",
      "metadata": {
        "colab": {
          "base_uri": "https://localhost:8080/"
        },
        "id": "cyHdTQQVCGy6",
        "outputId": "10cc3821-4aab-4931-8ba0-a1b7ad818435"
      },
      "source": [
        "sales.dtypes"
      ],
      "execution_count": 394,
      "outputs": [
        {
          "output_type": "execute_result",
          "data": {
            "text/plain": [
              "item identifier               object\n",
              "item weight                  float64\n",
              "Item_Fat_Content              object\n",
              "Item_Visibility              float64\n",
              "Item_Type                     object\n",
              "Item_MRP                     float64\n",
              "Outlet_Identifier             object\n",
              "Outlet_Establishment_Year      int64\n",
              "outlet size                   object\n",
              "Outlet_Location_Type          object\n",
              "Outlet_Type                   object\n",
              "Item_Outlet_Sales            float64\n",
              "dtype: object"
            ]
          },
          "metadata": {},
          "execution_count": 394
        }
      ]
    },
    {
      "cell_type": "code",
      "metadata": {
        "colab": {
          "base_uri": "https://localhost:8080/"
        },
        "id": "W8i353PVCOfC",
        "outputId": "af77dc37-158b-4add-be00-e21fdb338bd3"
      },
      "source": [
        "sales.duplicated().any()"
      ],
      "execution_count": 395,
      "outputs": [
        {
          "output_type": "execute_result",
          "data": {
            "text/plain": [
              "False"
            ]
          },
          "metadata": {},
          "execution_count": 395
        }
      ]
    },
    {
      "cell_type": "code",
      "metadata": {
        "colab": {
          "base_uri": "https://localhost:8080/"
        },
        "id": "9QjhInjBCr5s",
        "outputId": "2375b4b9-3650-4b99-fde1-9c42e47f70bf"
      },
      "source": [
        "sales.isnull().sum() "
      ],
      "execution_count": 396,
      "outputs": [
        {
          "output_type": "execute_result",
          "data": {
            "text/plain": [
              "item identifier                 0\n",
              "item weight                  1463\n",
              "Item_Fat_Content                0\n",
              "Item_Visibility                 0\n",
              "Item_Type                       0\n",
              "Item_MRP                        0\n",
              "Outlet_Identifier               0\n",
              "Outlet_Establishment_Year       0\n",
              "outlet size                  2410\n",
              "Outlet_Location_Type            0\n",
              "Outlet_Type                     0\n",
              "Item_Outlet_Sales               0\n",
              "dtype: int64"
            ]
          },
          "metadata": {},
          "execution_count": 396
        }
      ]
    },
    {
      "cell_type": "code",
      "metadata": {
        "colab": {
          "base_uri": "https://localhost:8080/"
        },
        "id": "TJDdYBo0DHUr",
        "outputId": "4ee8b9c3-7eab-4645-a11d-436cee1a5461"
      },
      "source": [
        "#sales[sales['outlet size'].isnull()]\n",
        "\n",
        "j=sales[sales['Outlet_Type']== 'Supermarket Type1' ]\n",
        "\n",
        "b=sales[sales['Outlet_Type']== 'Grocery Store' ]\n",
        "\n",
        "b['outlet size'].value_counts()\n",
        "\n",
        "sales['outlet size'].fillna(value = 'Small', inplace = True)\n",
        "\n",
        "sales.isnull().sum()\n",
        "# Outlet Size missing values will be changed to small because I notice most of the missing values were from grocery store and Type 1 stores and majory of those store \n",
        "#had outlet sizes of small."
      ],
      "execution_count": 397,
      "outputs": [
        {
          "output_type": "execute_result",
          "data": {
            "text/plain": [
              "item identifier                 0\n",
              "item weight                  1463\n",
              "Item_Fat_Content                0\n",
              "Item_Visibility                 0\n",
              "Item_Type                       0\n",
              "Item_MRP                        0\n",
              "Outlet_Identifier               0\n",
              "Outlet_Establishment_Year       0\n",
              "outlet size                     0\n",
              "Outlet_Location_Type            0\n",
              "Outlet_Type                     0\n",
              "Item_Outlet_Sales               0\n",
              "dtype: int64"
            ]
          },
          "metadata": {},
          "execution_count": 397
        }
      ]
    },
    {
      "cell_type": "code",
      "metadata": {
        "colab": {
          "base_uri": "https://localhost:8080/"
        },
        "id": "eJVfKvYRtvjp",
        "outputId": "e084d487-f8a0-449b-828f-8c566bfb8c62"
      },
      "source": [
        "sales['outlet size'].value_counts()\n"
      ],
      "execution_count": 398,
      "outputs": [
        {
          "output_type": "execute_result",
          "data": {
            "text/plain": [
              "Small     4798\n",
              "Medium    2793\n",
              "High       932\n",
              "Name: outlet size, dtype: int64"
            ]
          },
          "metadata": {},
          "execution_count": 398
        }
      ]
    },
    {
      "cell_type": "code",
      "metadata": {
        "id": "qGXT7I4JGkFP"
      },
      "source": [
        "\t#sales['item weight'].fillna(value = sales['item weight'].mean(), inplace = True)\n",
        "\n",
        "# decided to keep it weight and use this function to fill in the gaps because it may be important when it come to shiping cost."
      ],
      "execution_count": 399,
      "outputs": []
    },
    {
      "cell_type": "code",
      "metadata": {
        "colab": {
          "base_uri": "https://localhost:8080/"
        },
        "id": "VoFIqw1YLGl9",
        "outputId": "ea1f763c-1dff-455d-da69-5abd0e32b8d4"
      },
      "source": [
        "sales.isnull().sum() \n",
        "#proof of not more empty values"
      ],
      "execution_count": 400,
      "outputs": [
        {
          "output_type": "execute_result",
          "data": {
            "text/plain": [
              "item identifier                 0\n",
              "item weight                  1463\n",
              "Item_Fat_Content                0\n",
              "Item_Visibility                 0\n",
              "Item_Type                       0\n",
              "Item_MRP                        0\n",
              "Outlet_Identifier               0\n",
              "Outlet_Establishment_Year       0\n",
              "outlet size                     0\n",
              "Outlet_Location_Type            0\n",
              "Outlet_Type                     0\n",
              "Item_Outlet_Sales               0\n",
              "dtype: int64"
            ]
          },
          "metadata": {},
          "execution_count": 400
        }
      ]
    },
    {
      "cell_type": "code",
      "metadata": {
        "id": "SLeD_6CPThTl"
      },
      "source": [
        "sales.replace(['LF'],['Low Fat'], inplace=True)\n",
        "\n",
        "sales.replace(['low fat'],['Low Fat'], inplace=True)\n",
        "\n",
        "sales.replace(['reg'],['Regular'], inplace=True)\n",
        "\n",
        "sales.replace(['High'],['Large'], inplace=True)"
      ],
      "execution_count": 401,
      "outputs": []
    },
    {
      "cell_type": "code",
      "metadata": {
        "colab": {
          "base_uri": "https://localhost:8080/"
        },
        "id": "1w3GauZHOzTz",
        "outputId": "e3717468-bbf1-4d51-f093-124cadc14cc8"
      },
      "source": [
        "sales['Item_Fat_Content'].value_counts()"
      ],
      "execution_count": 402,
      "outputs": [
        {
          "output_type": "execute_result",
          "data": {
            "text/plain": [
              "Low Fat    5517\n",
              "Regular    3006\n",
              "Name: Item_Fat_Content, dtype: int64"
            ]
          },
          "metadata": {},
          "execution_count": 402
        }
      ]
    },
    {
      "cell_type": "code",
      "metadata": {
        "colab": {
          "base_uri": "https://localhost:8080/"
        },
        "id": "-ALHdW46proy",
        "outputId": "f061b2b4-d32c-4531-e7cc-f08dd58f7c3c"
      },
      "source": [
        "sales['item weight'].describe().round()"
      ],
      "execution_count": 403,
      "outputs": [
        {
          "output_type": "execute_result",
          "data": {
            "text/plain": [
              "count    7060.0\n",
              "mean       13.0\n",
              "std         5.0\n",
              "min         5.0\n",
              "25%         9.0\n",
              "50%        13.0\n",
              "75%        17.0\n",
              "max        21.0\n",
              "Name: item weight, dtype: float64"
            ]
          },
          "metadata": {},
          "execution_count": 403
        }
      ]
    },
    {
      "cell_type": "code",
      "metadata": {
        "colab": {
          "base_uri": "https://localhost:8080/"
        },
        "id": "WJkUHnSpqS4R",
        "outputId": "d5f8745d-21fa-4bfc-9fb7-dfbf95b53e96"
      },
      "source": [
        "sales['Item_Visibility'].describe()"
      ],
      "execution_count": 404,
      "outputs": [
        {
          "output_type": "execute_result",
          "data": {
            "text/plain": [
              "count    8523.000000\n",
              "mean        0.066132\n",
              "std         0.051598\n",
              "min         0.000000\n",
              "25%         0.026989\n",
              "50%         0.053931\n",
              "75%         0.094585\n",
              "max         0.328391\n",
              "Name: Item_Visibility, dtype: float64"
            ]
          },
          "metadata": {},
          "execution_count": 404
        }
      ]
    },
    {
      "cell_type": "code",
      "metadata": {
        "colab": {
          "base_uri": "https://localhost:8080/"
        },
        "id": "EotSTPmSqcgA",
        "outputId": "eed93436-d634-4d09-f0c1-4eaf530a89bd"
      },
      "source": [
        "sales['Item_MRP'].describe().round()"
      ],
      "execution_count": 405,
      "outputs": [
        {
          "output_type": "execute_result",
          "data": {
            "text/plain": [
              "count    8523.0\n",
              "mean      141.0\n",
              "std        62.0\n",
              "min        31.0\n",
              "25%        94.0\n",
              "50%       143.0\n",
              "75%       186.0\n",
              "max       267.0\n",
              "Name: Item_MRP, dtype: float64"
            ]
          },
          "metadata": {},
          "execution_count": 405
        }
      ]
    },
    {
      "cell_type": "code",
      "metadata": {
        "colab": {
          "base_uri": "https://localhost:8080/"
        },
        "id": "Dqv5abb-qozR",
        "outputId": "57372233-18f6-4a2b-ead9-0c5959fac9bb"
      },
      "source": [
        "sales['Item_Outlet_Sales'].describe().round()"
      ],
      "execution_count": 406,
      "outputs": [
        {
          "output_type": "execute_result",
          "data": {
            "text/plain": [
              "count     8523.0\n",
              "mean      2181.0\n",
              "std       1706.0\n",
              "min         33.0\n",
              "25%        834.0\n",
              "50%       1794.0\n",
              "75%       3101.0\n",
              "max      13087.0\n",
              "Name: Item_Outlet_Sales, dtype: float64"
            ]
          },
          "metadata": {},
          "execution_count": 406
        }
      ]
    },
    {
      "cell_type": "code",
      "metadata": {
        "colab": {
          "base_uri": "https://localhost:8080/"
        },
        "id": "-o_yIiweKgdK",
        "outputId": "c0cf646b-85ae-49af-8430-7cfa472ff288"
      },
      "source": [
        "sales.isnull().sum() \n",
        "#proof of not more empty values"
      ],
      "execution_count": 407,
      "outputs": [
        {
          "output_type": "execute_result",
          "data": {
            "text/plain": [
              "item identifier                 0\n",
              "item weight                  1463\n",
              "Item_Fat_Content                0\n",
              "Item_Visibility                 0\n",
              "Item_Type                       0\n",
              "Item_MRP                        0\n",
              "Outlet_Identifier               0\n",
              "Outlet_Establishment_Year       0\n",
              "outlet size                     0\n",
              "Outlet_Location_Type            0\n",
              "Outlet_Type                     0\n",
              "Item_Outlet_Sales               0\n",
              "dtype: int64"
            ]
          },
          "metadata": {},
          "execution_count": 407
        }
      ]
    },
    {
      "cell_type": "markdown",
      "metadata": {
        "id": "up72zj0LPSTw"
      },
      "source": [
        "Chart to see what stores made the **most** sales \n"
      ]
    },
    {
      "cell_type": "code",
      "metadata": {
        "colab": {
          "base_uri": "https://localhost:8080/",
          "height": 585
        },
        "id": "_MbPxueWIW4U",
        "outputId": "ed04fc63-2d99-470b-af44-a6a21fb3fc39"
      },
      "source": [
        "plt.figure(figsize=(10,8))\n",
        "\n",
        "sns.barplot(data=sales, x = 'outlet size', y= 'Item_Outlet_Sales', hue='Outlet_Location_Type' );\n",
        "\n",
        "plt.title('Correlation betwen outlet size,sales and outlet type', fontsize= 16);\n",
        "\n",
        "plt.legend(bbox_to_anchor=(1,1),loc =\"upper left\");\n",
        "\n",
        "plt.tight_layout()\n",
        "\n",
        "plt.grid(c='K')\n",
        "\n",
        "plt.savefig('salesbar.png', dpi = 300);\n",
        "## It looks like Tier 3 store yeild the most sales but the medium size stores made the most sales"
      ],
      "execution_count": 408,
      "outputs": [
        {
          "output_type": "display_data",
          "data": {
            "image/png": "[encoded data removed]",
            "text/plain": [
              "<Figure size 720x576 with 1 Axes>"
            ]
          },
          "metadata": {
            "needs_background": "light"
          }
        }
      ]
    },
    {
      "cell_type": "code",
      "metadata": {
        "colab": {
          "base_uri": "https://localhost:8080/",
          "height": 295
        },
        "id": "imkYDBklyRLl",
        "outputId": "5d88396f-cc9f-4a5f-d722-c78717fd2a8f"
      },
      "source": [
        "sales['item weight'].hist();\n",
        "plt.ylabel('Count');\n",
        "plt.xlabel('Item weight');\n",
        "plt.title('Item weight Distribution');\n",
        "# This shows that around 2300 of the items we carry are between the 11 and 13 pound range"
      ],
      "execution_count": 409,
      "outputs": [
        {
          "output_type": "display_data",
          "data": {
            "image/png": "[encoded data removed]",
            "text/plain": [
              "<Figure size 432x288 with 1 Axes>"
            ]
          },
          "metadata": {
            "needs_background": "light"
          }
        }
      ]
    },
    {
      "cell_type": "code",
      "metadata": {
        "colab": {
          "base_uri": "https://localhost:8080/",
          "height": 296
        },
        "id": "eqzvyEJOwZjo",
        "outputId": "cdceb1e8-c018-47ad-fe92-94ea3ab66288"
      },
      "source": [
        "sales['Item_MRP'].hist();\n",
        "plt.ylabel('Count');\n",
        "plt.xlabel('Item_MRP');\n",
        "plt.title('Item_MRP Distribution');"
      ],
      "execution_count": 410,
      "outputs": [
        {
          "output_type": "display_data",
          "data": {
            "image/png": "[encoded data removed]",
            "text/plain": [
              "<Figure size 432x288 with 1 Axes>"
            ]
          },
          "metadata": {
            "needs_background": "light"
          }
        }
      ]
    },
    {
      "cell_type": "code",
      "metadata": {
        "colab": {
          "base_uri": "https://localhost:8080/",
          "height": 295
        },
        "id": "s1YoMevNzDEK",
        "outputId": "c3128aa6-ccac-4bb2-fe51-9a9714d1f056"
      },
      "source": [
        "sales['Item_Visibility'].hist();\n",
        "plt.ylabel('Count');\n",
        "plt.xlabel('Item visibility');\n",
        "plt.title('Item_Visibility Distribution');"
      ],
      "execution_count": 411,
      "outputs": [
        {
          "output_type": "display_data",
          "data": {
            "image/png": "[encoded data removed]",
            "text/plain": [
              "<Figure size 432x288 with 1 Axes>"
            ]
          },
          "metadata": {
            "needs_background": "light"
          }
        }
      ]
    },
    {
      "cell_type": "code",
      "metadata": {
        "colab": {
          "base_uri": "https://localhost:8080/",
          "height": 325
        },
        "id": "vAlj8adM3Ict",
        "outputId": "83928d60-081c-4d6f-de94-c28a051716e6"
      },
      "source": [
        "sns.boxplot(x='outlet size', y='Item_Outlet_Sales', hue= 'Item_Fat_Content', data=sales);\n",
        "plt.legend(bbox_to_anchor= (1,1), loc = 'upper left');\n",
        "plt.title(label=\"Sales output per store size\");\n",
        "plt.xticks(rotation= 90);"
      ],
      "execution_count": 412,
      "outputs": [
        {
          "output_type": "display_data",
          "data": {
            "image/png": "[encoded data removed]",
            "text/plain": [
              "<Figure size 432x288 with 1 Axes>"
            ]
          },
          "metadata": {
            "needs_background": "light"
          }
        }
      ]
    },
    {
      "cell_type": "code",
      "metadata": {
        "colab": {
          "base_uri": "https://localhost:8080/",
          "height": 599
        },
        "id": "2GCV_86-6Pnz",
        "outputId": "b1c4c6ba-8d10-4837-9461-30f6ba9102ac"
      },
      "source": [
        "\n",
        "plt.figure(figsize=(10,8))\n",
        "sns.heatmap(sales.corr(), cmap='Reds', annot=True);\n",
        "plt.tight_layout()\n",
        "plt.title('Correlation Heat Map', fontsize= 16 )\n",
        "plt.savefig('salescorr.png', dpi = 300);"
      ],
      "execution_count": 413,
      "outputs": [
        {
          "output_type": "display_data",
          "data": {
            "image/png": "[encoded data removed]",
            "text/plain": [
              "<Figure size 720x576 with 2 Axes>"
            ]
          },
          "metadata": {
            "needs_background": "light"
          }
        }
      ]
    },
    {
      "cell_type": "code",
      "metadata": {
        "colab": {
          "base_uri": "https://localhost:8080/",
          "height": 585
        },
        "id": "R8YShnZ9jwNh",
        "outputId": "f9bbae32-9500-40b6-b892-9a50989a6e41"
      },
      "source": [
        "plt.figure(figsize=(10,8))\n",
        "\n",
        "sale_f=sales.groupby(['Item_Type', 'Item_Fat_Content']).sum().reset_index()\n",
        "\n",
        "sale_f= sale_f.sort_values(by='Item_Outlet_Sales');\n",
        "\n",
        "sns.scatterplot(data= sale_f, x= 'Item_Type', y= 'Item_Outlet_Sales', hue='Item_Fat_Content');\n",
        "plt.xticks(rotation = 90);\n",
        "\n",
        "plt.legend(bbox_to_anchor= (1,1), loc = 'upper left');\n",
        "\n",
        "\n",
        "plt.grid(c='K')\n",
        "\n",
        "plt.tight_layout()\n",
        "\n",
        "plt.savefig('scatterplott.png', dpi = 300);\n"
      ],
      "execution_count": 414,
      "outputs": [
        {
          "output_type": "display_data",
          "data": {
            "image/png": "[encoded data removed]",
            "text/plain": [
              "<Figure size 720x576 with 1 Axes>"
            ]
          },
          "metadata": {
            "needs_background": "light"
          }
        }
      ]
    },
    {
      "cell_type": "markdown",
      "metadata": {
        "id": "m1AuC5XaKaiY"
      },
      "source": [
        "# ***Chart to see the evolution of low fat vs regualar over time ***"
      ]
    },
    {
      "cell_type": "code",
      "metadata": {
        "id": "IbBJmv--9uHm",
        "colab": {
          "base_uri": "https://localhost:8080/",
          "height": 585
        },
        "outputId": "a2d72a05-f570-4fb0-f6e5-981b38eb6e3a"
      },
      "source": [
        "plt.figure(figsize=(10,8))\n",
        "\n",
        "sns.lineplot(data= sales, x='Outlet_Establishment_Year', y=sales['Item_Outlet_Sales'].cumsum(),hue=\t'Item_Fat_Content', );\n",
        "\n",
        "plt.title('sales performance over time');\n",
        "plt.ylabel('Sales',fontsize=15);\n",
        "plt.xlabel('Establishment Years',fontsize=15);\n",
        "\n",
        "plt.grid(c='K')\n",
        "\n",
        "plt.tight_layout();\n",
        "\n",
        "plt.savefig('lineplot.png', dpi = 300);\n"
      ],
      "execution_count": 415,
      "outputs": [
        {
          "output_type": "display_data",
          "data": {
            "image/png": "[encoded data removed]",
            "text/plain": [
              "<Figure size 720x576 with 1 Axes>"
            ]
          },
          "metadata": {
            "needs_background": "light"
          }
        }
      ]
    },
    {
      "cell_type": "code",
      "metadata": {
        "colab": {
          "base_uri": "https://localhost:8080/",
          "height": 210
        },
        "id": "6Bq-D2Q9lk99",
        "outputId": "5ed686af-282e-4158-82e0-c834b6fb2dab"
      },
      "source": [
        "sales.head(3)"
      ],
      "execution_count": 416,
      "outputs": [
        {
          "output_type": "execute_result",
          "data": {
            "text/html": [
              "<div>\n",
              "<style scoped>\n",
              "    .dataframe tbody tr th:only-of-type {\n",
              "        vertical-align: middle;\n",
              "    }\n",
              "\n",
              "    .dataframe tbody tr th {\n",
              "        vertical-align: top;\n",
              "    }\n",
              "\n",
              "    .dataframe thead th {\n",
              "        text-align: right;\n",
              "    }\n",
              "</style>\n",
              "<table border=\"1\" class=\"dataframe\">\n",
              "  <thead>\n",
              "    <tr style=\"text-align: right;\">\n",
              "      <th></th>\n",
              "      <th>item identifier</th>\n",
              "      <th>item weight</th>\n",
              "      <th>Item_Fat_Content</th>\n",
              "      <th>Item_Visibility</th>\n",
              "      <th>Item_Type</th>\n",
              "      <th>Item_MRP</th>\n",
              "      <th>Outlet_Identifier</th>\n",
              "      <th>Outlet_Establishment_Year</th>\n",
              "      <th>outlet size</th>\n",
              "      <th>Outlet_Location_Type</th>\n",
              "      <th>Outlet_Type</th>\n",
              "      <th>Item_Outlet_Sales</th>\n",
              "    </tr>\n",
              "  </thead>\n",
              "  <tbody>\n",
              "    <tr>\n",
              "      <th>0</th>\n",
              "      <td>FDA15</td>\n",
              "      <td>9.30</td>\n",
              "      <td>Low Fat</td>\n",
              "      <td>0.016047</td>\n",
              "      <td>Dairy</td>\n",
              "      <td>249.8092</td>\n",
              "      <td>OUT049</td>\n",
              "      <td>1999</td>\n",
              "      <td>Medium</td>\n",
              "      <td>Tier 1</td>\n",
              "      <td>Supermarket Type1</td>\n",
              "      <td>3735.1380</td>\n",
              "    </tr>\n",
              "    <tr>\n",
              "      <th>1</th>\n",
              "      <td>DRC01</td>\n",
              "      <td>5.92</td>\n",
              "      <td>Regular</td>\n",
              "      <td>0.019278</td>\n",
              "      <td>Soft Drinks</td>\n",
              "      <td>48.2692</td>\n",
              "      <td>OUT018</td>\n",
              "      <td>2009</td>\n",
              "      <td>Medium</td>\n",
              "      <td>Tier 3</td>\n",
              "      <td>Supermarket Type2</td>\n",
              "      <td>443.4228</td>\n",
              "    </tr>\n",
              "    <tr>\n",
              "      <th>2</th>\n",
              "      <td>FDN15</td>\n",
              "      <td>17.50</td>\n",
              "      <td>Low Fat</td>\n",
              "      <td>0.016760</td>\n",
              "      <td>Meat</td>\n",
              "      <td>141.6180</td>\n",
              "      <td>OUT049</td>\n",
              "      <td>1999</td>\n",
              "      <td>Medium</td>\n",
              "      <td>Tier 1</td>\n",
              "      <td>Supermarket Type1</td>\n",
              "      <td>2097.2700</td>\n",
              "    </tr>\n",
              "  </tbody>\n",
              "</table>\n",
              "</div>"
            ],
            "text/plain": [
              "  item identifier  item weight  ...        Outlet_Type  Item_Outlet_Sales\n",
              "0           FDA15         9.30  ...  Supermarket Type1          3735.1380\n",
              "1           DRC01         5.92  ...  Supermarket Type2           443.4228\n",
              "2           FDN15        17.50  ...  Supermarket Type1          2097.2700\n",
              "\n",
              "[3 rows x 12 columns]"
            ]
          },
          "metadata": {},
          "execution_count": 416
        }
      ]
    },
    {
      "cell_type": "markdown",
      "metadata": {
        "id": "IiZLEfHnKZFD"
      },
      "source": [
        "# ***This is where we start machine learming on this data to predeict data***"
      ]
    },
    {
      "cell_type": "markdown",
      "metadata": {
        "id": "Vj-4XMymkuiK"
      },
      "source": [
        "we will start be selecting the X and y split."
      ]
    },
    {
      "cell_type": "code",
      "metadata": {
        "id": "1nT6linlKXza"
      },
      "source": [
        "y = sales['Item_Outlet_Sales']\n",
        "\n",
        "X = sales.drop(columns = 'Item_Outlet_Sales')\n",
        "\n",
        "olt = {'Tier 1': 0, 'Tier 2': 1, 'Tier 3': 2 }\n",
        "X['Outlet_Location_Type']= X['Outlet_Location_Type'].replace(olt, inplace= True)\n",
        "ot = {'Small': 0, 'Medium': 1, 'High': 2 }\n",
        "X['outlet size']= X['outlet size'].replace(ot, inplace= True)\n",
        "#checking to see if the changes were sucessfull\n",
        "X.head()\n",
        "\n",
        "X['outlet size']= X['outlet size'].astype(float)\n",
        "X['Outlet_Location_Type']= X['Outlet_Location_Type'].astype(float)\n",
        "\n"
      ],
      "execution_count": 438,
      "outputs": []
    },
    {
      "cell_type": "markdown",
      "metadata": {
        "id": "lFQxdbI7mHsM"
      },
      "source": [
        "# *In our data there is two Ordinal data columns*"
      ]
    },
    {
      "cell_type": "code",
      "metadata": {
        "id": "irC0cwJmmWQV"
      },
      "source": [
        "\n",
        "X_train, X_test, y_train, y_test = train_test_split(X, y, random_state=42)"
      ],
      "execution_count": 439,
      "outputs": []
    },
    {
      "cell_type": "markdown",
      "metadata": {
        "id": "zQgO67AElrCf"
      },
      "source": [
        "# ***Using column selector to seperate my columns so I can transform them appropriately.***"
      ]
    },
    {
      "cell_type": "code",
      "metadata": {
        "id": "y9bWNH3CnmIu"
      },
      "source": [
        "#selecting all my numerical columns\n",
        "num_selector = make_column_selector(dtype_include='number')\n",
        "#selecting on my object columns\n",
        "cat_selector = make_column_selector(dtype_include='object')\n"
      ],
      "execution_count": 421,
      "outputs": []
    },
    {
      "cell_type": "markdown",
      "metadata": {
        "id": "ie4oxyAAnAjy"
      },
      "source": [
        "# ***Making a variable for my one hot encoder and passing it on my categorical columns***"
      ]
    },
    {
      "cell_type": "code",
      "metadata": {
        "id": "j0iyxtDrk381"
      },
      "source": [
        "ohe_encoder = OneHotEncoder(sparse=False, handle_unknown='ignore')\n",
        "ohe= (ohe_encoder, cat_selector)\n"
      ],
      "execution_count": 426,
      "outputs": []
    },
    {
      "cell_type": "markdown",
      "metadata": {
        "id": "A0YU3TOYnm85"
      },
      "source": [
        "# Making a variable for Imputer function and passing it on my numerical columns using the median colums , so I can get ints ranther than floats on the column with missing data.***italicized text***"
      ]
    },
    {
      "cell_type": "code",
      "metadata": {
        "id": "Zpcay8jzk4Gz"
      },
      "source": [
        "imputer = SimpleImputer(strategy='mean')\n",
        "med_t= (imputer, num_selector )"
      ],
      "execution_count": 427,
      "outputs": []
    },
    {
      "cell_type": "markdown",
      "metadata": {
        "id": "XrN6iJwooPUM"
      },
      "source": [
        "# ***Creating a variable with the column transfer function and passing the imputer and the OHE variable to be transformed***"
      ]
    },
    {
      "cell_type": "code",
      "metadata": {
        "id": "WfHs2kw1k4Ra"
      },
      "source": [
        "column_transformer = make_column_transformer(ohe, med_t,remainder= 'passthrough')\n",
        "\n",
        "#Creating a linear Regression model to be later passed on to my data using pipeline\n",
        "lin_reg= LinearRegression()"
      ],
      "execution_count": 428,
      "outputs": []
    },
    {
      "cell_type": "markdown",
      "metadata": {
        "id": "D_IFEsGFozX7"
      },
      "source": [
        "Using pipe function to creat a variable to pass fit our column transformer and our linear Regrestion model onto our data. \n",
        "# ***Then fiting that variable on to our training data.***"
      ]
    },
    {
      "cell_type": "code",
      "metadata": {
        "colab": {
          "base_uri": "https://localhost:8080/"
        },
        "id": "EvYIryu8nmVZ",
        "outputId": "e3daa19f-aac7-4ee9-9a1f-4048f90201ac"
      },
      "source": [
        "\n",
        "pipe= make_pipeline(column_transformer, lin_reg)\n",
        "\n",
        "pipe.fit(X_train,y_train)"
      ],
      "execution_count": 440,
      "outputs": [
        {
          "output_type": "execute_result",
          "data": {
            "text/plain": [
              "Pipeline(steps=[('columntransformer',\n",
              "                 ColumnTransformer(remainder='passthrough',\n",
              "                                   transformers=[('onehotencoder',\n",
              "                                                  OneHotEncoder(handle_unknown='ignore',\n",
              "                                                                sparse=False),\n",
              "                                                  <sklearn.compose._column_transformer.make_column_selector object at 0x7f13be4b3750>),\n",
              "                                                 ('simpleimputer',\n",
              "                                                  SimpleImputer(),\n",
              "                                                  <sklearn.compose._column_transformer.make_column_selector object at 0x7f13be4b3110>)])),\n",
              "                ('linearregression', LinearRegression())])"
            ]
          },
          "metadata": {},
          "execution_count": 440
        }
      ]
    },
    {
      "cell_type": "markdown",
      "metadata": {
        "id": "pZ55PG43tI5C"
      },
      "source": [
        "## ***Here I am importing the sklean metrics to evaluate my model***"
      ]
    },
    {
      "cell_type": "code",
      "metadata": {
        "id": "BNjsbdi4iF_p"
      },
      "source": [
        "from sklearn.metrics import r2_score\n",
        "from sklearn.metrics import mean_absolute_error\n",
        "from sklearn.metrics import mean_squared_error"
      ],
      "execution_count": 441,
      "outputs": []
    },
    {
      "cell_type": "markdown",
      "metadata": {
        "id": "LoLbHOE9tbzC"
      },
      "source": [
        "# ***I have created a function to help me quickly evaluate my models***"
      ]
    },
    {
      "cell_type": "code",
      "metadata": {
        "id": "dKYGJgSEkTBK"
      },
      "source": [
        "def evaluate_model(pipe, X_train, y_train):\n",
        "  yhattrain = pipe.predict(X_train)\n",
        "  mae_train = mean_absolute_error(y_train, yhattrain)\n",
        "  mse_train = mean_squared_error(y_train, yhattrain)\n",
        "  rmse_train = np.sqrt(mse_train)\n",
        "  r2_train = r2_score(y_train, yhattrain)\n",
        "  print('MAE: ', mae_train)\n",
        "  print('MSE: ', mse_train)\n",
        "  print('RMSE: ', rmse_train)\n",
        "  print('R2: ', r2_train)\n"
      ],
      "execution_count": 442,
      "outputs": []
    },
    {
      "cell_type": "markdown",
      "metadata": {
        "id": "Wlxq6gEXttyO"
      },
      "source": [
        "# ***Evalutaing the training data by passing it into my function***"
      ]
    },
    {
      "cell_type": "code",
      "metadata": {
        "id": "KhhpUMUWnWBH",
        "colab": {
          "base_uri": "https://localhost:8080/"
        },
        "outputId": "d84b6b50-3d26-4724-cbce-0b7b6e5229a1"
      },
      "source": [
        "evaluate_model(pipe, X_train, y_train)"
      ],
      "execution_count": 443,
      "outputs": [
        {
          "output_type": "stream",
          "name": "stdout",
          "text": [
            "MAE:  735.6587963861475\n",
            "MSE:  971595.8467857736\n",
            "RMSE:  985.6956156876086\n",
            "R2:  0.6716977904755612\n"
          ]
        }
      ]
    },
    {
      "cell_type": "markdown",
      "metadata": {
        "id": "kNNj0lkYt5_C"
      },
      "source": [
        "# ***Evalutaing the testing data by passing it into my function***"
      ]
    },
    {
      "cell_type": "code",
      "metadata": {
        "id": "Sp9iEl4ZoU5h",
        "colab": {
          "base_uri": "https://localhost:8080/"
        },
        "outputId": "5fac836a-5499-4e57-9975-4a1310c535c5"
      },
      "source": [
        "evaluate_model(pipe,X_test, y_test)"
      ],
      "execution_count": 444,
      "outputs": [
        {
          "output_type": "stream",
          "name": "stdout",
          "text": [
            "MAE:  967.2682951050884\n",
            "MSE:  1701308.8507357736\n",
            "RMSE:  1304.3423058138433\n",
            "R2:  0.38335525331986753\n"
          ]
        }
      ]
    },
    {
      "cell_type": "markdown",
      "metadata": {
        "id": "e17K0ET7uC0o"
      },
      "source": [
        "# ***I am importing DecisionTreeRegressor to use for modeling my data***"
      ]
    },
    {
      "cell_type": "code",
      "metadata": {
        "id": "edeG_ThAma23"
      },
      "source": [
        "from sklearn.tree import DecisionTreeRegressor"
      ],
      "execution_count": 445,
      "outputs": []
    },
    {
      "cell_type": "markdown",
      "metadata": {
        "id": "HFScuENpwf5P"
      },
      "source": [
        "Instantiating the descision tree object."
      ]
    },
    {
      "cell_type": "code",
      "metadata": {
        "id": "IvhzPSD0uZcV"
      },
      "source": [
        "dec_tree = DecisionTreeRegressor(max_depth=60,random_state = 42)"
      ],
      "execution_count": 446,
      "outputs": []
    },
    {
      "cell_type": "markdown",
      "metadata": {
        "id": "zgwTl21bxu9j"
      },
      "source": [
        "creating a new pipline and fiting it onto my data"
      ]
    },
    {
      "cell_type": "code",
      "metadata": {
        "id": "-rfcdzDiuBoE",
        "colab": {
          "base_uri": "https://localhost:8080/"
        },
        "outputId": "8a3c660f-8210-4471-9248-f22ef1e3d977"
      },
      "source": [
        "pipe2= make_pipeline(column_transformer, dec_tree)\n",
        "\n",
        "pipe2.fit(X_train, y_train)"
      ],
      "execution_count": 447,
      "outputs": [
        {
          "output_type": "execute_result",
          "data": {
            "text/plain": [
              "Pipeline(steps=[('columntransformer',\n",
              "                 ColumnTransformer(remainder='passthrough',\n",
              "                                   transformers=[('onehotencoder',\n",
              "                                                  OneHotEncoder(handle_unknown='ignore',\n",
              "                                                                sparse=False),\n",
              "                                                  <sklearn.compose._column_transformer.make_column_selector object at 0x7f13be4b3750>),\n",
              "                                                 ('simpleimputer',\n",
              "                                                  SimpleImputer(),\n",
              "                                                  <sklearn.compose._column_transformer.make_column_selector object at 0x7f13be4b3110>)])),\n",
              "                ('decisiontreeregressor',\n",
              "                 DecisionTreeRegressor(max_depth=60, random_state=42))])"
            ]
          },
          "metadata": {},
          "execution_count": 447
        }
      ]
    },
    {
      "cell_type": "markdown",
      "metadata": {
        "id": "Aik9HW5fx2_L"
      },
      "source": [
        "# ***Evaluating  both my train and my test data***"
      ]
    },
    {
      "cell_type": "code",
      "metadata": {
        "id": "GjBsQrc6uNHd",
        "colab": {
          "base_uri": "https://localhost:8080/"
        },
        "outputId": "3af51367-778d-4dae-b0dc-63fb2c19e290"
      },
      "source": [
        "evaluate_model(pipe2, X_train, y_train)"
      ],
      "execution_count": 448,
      "outputs": [
        {
          "output_type": "stream",
          "name": "stdout",
          "text": [
            "MAE:  1.3339350483606386e-17\n",
            "MSE:  3.791271434353799e-31\n",
            "RMSE:  6.157330131115108e-16\n",
            "R2:  1.0\n"
          ]
        }
      ]
    },
    {
      "cell_type": "code",
      "metadata": {
        "id": "GTn2XCRLu59t",
        "colab": {
          "base_uri": "https://localhost:8080/"
        },
        "outputId": "25789e33-fd8b-4500-f625-91dd8c4b0b69"
      },
      "source": [
        "evaluate_model(pipe2, X_test, y_test)"
      ],
      "execution_count": 449,
      "outputs": [
        {
          "output_type": "stream",
          "name": "stdout",
          "text": [
            "MAE:  993.2701838573439\n",
            "MSE:  2087946.0651274892\n",
            "RMSE:  1444.9726866371866\n",
            "R2:  0.2432173782817274\n"
          ]
        }
      ]
    },
    {
      "cell_type": "markdown",
      "metadata": {
        "id": "Xe5-6aGSYJ9T"
      },
      "source": [
        "# ***I will not be using any model , Because I am not sure why I am getting horrable numbers. please advise***"
      ]
    }
  ]
}